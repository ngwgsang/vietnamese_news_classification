{
  "nbformat": 4,
  "nbformat_minor": 0,
  "metadata": {
    "colab": {
      "provenance": []
    },
    "kernelspec": {
      "name": "python3",
      "display_name": "Python 3"
    },
    "language_info": {
      "name": "python"
    }
  },
  "cells": [
    {
      "cell_type": "code",
      "execution_count": 1,
      "metadata": {
        "id": "GxfVFAbGXuhL"
      },
      "outputs": [],
      "source": [
        "%%capture\n",
        "\n",
        "from google.colab import drive, files\n",
        "drive.mount('/content/drive/')\n",
        "%cd /content/drive/My Drive/AI/NewsCrawl"
      ]
    },
    {
      "cell_type": "code",
      "source": [
        "import pandas as pd\n",
        "import numpy as np\n",
        "from glob import glob\n",
        "import pandas as pd\n",
        "import numpy as np\n",
        "import re\n",
        "import sys\n",
        "import seaborn as sns\n",
        "import matplotlib.pyplot as plt\n",
        "from sklearn.naive_bayes import MultinomialNB\n",
        "from sklearn.feature_extraction.text import CountVectorizer, TfidfVectorizer\n",
        "from sklearn.metrics import accuracy_score\n",
        "from sklearn.model_selection import train_test_split\n",
        "from sklearn.metrics import confusion_matrix\n",
        "from sklearn.metrics import classification_report\n",
        "from sklearn.tree import DecisionTreeClassifier\n",
        "from sklearn.linear_model import LogisticRegression\n",
        "from sklearn.svm import LinearSVC, SVC\n",
        "from sklearn.ensemble import VotingClassifier\n",
        "from sklearn.ensemble import BaggingClassifier\n",
        "from sklearn.neighbors import KNeighborsClassifier"
      ],
      "metadata": {
        "id": "wNJzw-QBYB3j"
      },
      "execution_count": 2,
      "outputs": []
    },
    {
      "cell_type": "code",
      "source": [
        "# Loại bỏ warning\n",
        "\n",
        "import logging\n",
        "for name in logging.Logger.manager.loggerDict.keys():\n",
        "    logging.getLogger(name).setLevel(logging.CRITICAL)"
      ],
      "metadata": {
        "id": "qAZnLTyAzfTj"
      },
      "execution_count": 3,
      "outputs": []
    },
    {
      "cell_type": "markdown",
      "source": [
        "# Load dữ liệu từ dataset"
      ],
      "metadata": {
        "id": "nvRIs5iqhcjY"
      }
    },
    {
      "cell_type": "code",
      "source": [
        "dataset = []\n",
        "dataset.extend(glob('./vnexpress-dantri-merged/*.xlsx'))\n",
        "dataset"
      ],
      "metadata": {
        "colab": {
          "base_uri": "https://localhost:8080/"
        },
        "id": "gNnBCTiOYEvB",
        "outputId": "d0d60fbc-3138-4f39-bb72-5edcaf9448fb"
      },
      "execution_count": 4,
      "outputs": [
        {
          "output_type": "execute_result",
          "data": {
            "text/plain": [
              "['./vnexpress-dantri-merged/thoi-su.xlsx',\n",
              " './vnexpress-dantri-merged/the-gioi.xlsx',\n",
              " './vnexpress-dantri-merged/kinh-doanh.xlsx',\n",
              " './vnexpress-dantri-merged/the-thao.xlsx',\n",
              " './vnexpress-dantri-merged/giai-tri.xlsx',\n",
              " './vnexpress-dantri-merged/phap-luat.xlsx',\n",
              " './vnexpress-dantri-merged/suc-khoe.xlsx',\n",
              " './vnexpress-dantri-merged/giao-duc.xlsx',\n",
              " './vnexpress-dantri-merged/khoa-hoc-cong-nghe.xlsx',\n",
              " './vnexpress-dantri-merged/du-lich.xlsx',\n",
              " './vnexpress-dantri-merged/oto-xe-may.xlsx',\n",
              " './vnexpress-dantri-merged/train.xlsx',\n",
              " './vnexpress-dantri-merged/test.xlsx']"
            ]
          },
          "metadata": {},
          "execution_count": 4
        }
      ]
    },
    {
      "cell_type": "code",
      "source": [
        "train_df = pd.DataFrame()\n",
        "test_df = pd.DataFrame()\n",
        "train_df = train_df.append(pd.read_excel('./vnexpress-dantri-merged/train.xlsx'), ignore_index=True)\n",
        "test_df = test_df.append(pd.read_excel('./vnexpress-dantri-merged/test.xlsx'), ignore_index=True)\n",
        "train_df.dropna(inplace = True) # Loại bỏ null\n",
        "test_df.dropna(inplace = True) # Loại bỏ null"
      ],
      "metadata": {
        "id": "eQfT5AFlYcAL"
      },
      "execution_count": 5,
      "outputs": []
    },
    {
      "cell_type": "code",
      "source": [
        "train_df.head()"
      ],
      "metadata": {
        "colab": {
          "base_uri": "https://localhost:8080/",
          "height": 206
        },
        "id": "gNvlRrgDP3K8",
        "outputId": "562cfcf6-4007-44d7-c754-20529b02a03a"
      },
      "execution_count": 6,
      "outputs": [
        {
          "output_type": "execute_result",
          "data": {
            "text/plain": [
              "   Unnamed: 0                                    id  \\\n",
              "0           0  2fdc17c5-3abc-4a32-b565-4f9a31b0b63f   \n",
              "1           1  4fa7b6b0-5969-4927-9392-d9981971d3e3   \n",
              "2           2  ef592a33-23e7-496e-a7bd-0cef5f4b3cd2   \n",
              "3           3  3a699019-f1a8-4d25-8427-1f1e62329521   \n",
              "4           4  582a4158-78be-44a0-b7e9-9019abfbf1ad   \n",
              "\n",
              "                                               title  \\\n",
              "0       Đề xuất xây đường kéo dài đại lộ Thăng Long    \n",
              "1    Đề xuất xây thêm bãi đỗ xe tại sân bay Nội Bài    \n",
              "2       Đề xuất xóa 4 tổng cục thuộc Bộ Nông nghiệp    \n",
              "3  Đề xuất xử lý hình sự hành vi thu gom sổ bảo h...   \n",
              "4   Đêm hội trăng rằm của trẻ có hoàn cảnh khó khăn    \n",
              "\n",
              "                                             content  label  \n",
              "0  Ngày 17/5, đại diện Bộ Giao thông Vận tải cho ...      0  \n",
              "1  Theo đề xuất của Cục Hàng không Việt Nam gửi B...      0  \n",
              "2  Theo dự thảo nghị định quy định chức năng, nhi...      0  \n",
              "3  Kiến nghị được Giám đốc Sở Lao động, Thương bi...      0  \n",
              "4  Chương trình mở cửa miễn phí với nhiều tiết mụ...      0  "
            ],
            "text/html": [
              "\n",
              "  <div id=\"df-33cca394-7440-4e25-8af8-c652f0f7aa1d\">\n",
              "    <div class=\"colab-df-container\">\n",
              "      <div>\n",
              "<style scoped>\n",
              "    .dataframe tbody tr th:only-of-type {\n",
              "        vertical-align: middle;\n",
              "    }\n",
              "\n",
              "    .dataframe tbody tr th {\n",
              "        vertical-align: top;\n",
              "    }\n",
              "\n",
              "    .dataframe thead th {\n",
              "        text-align: right;\n",
              "    }\n",
              "</style>\n",
              "<table border=\"1\" class=\"dataframe\">\n",
              "  <thead>\n",
              "    <tr style=\"text-align: right;\">\n",
              "      <th></th>\n",
              "      <th>Unnamed: 0</th>\n",
              "      <th>id</th>\n",
              "      <th>title</th>\n",
              "      <th>content</th>\n",
              "      <th>label</th>\n",
              "    </tr>\n",
              "  </thead>\n",
              "  <tbody>\n",
              "    <tr>\n",
              "      <th>0</th>\n",
              "      <td>0</td>\n",
              "      <td>2fdc17c5-3abc-4a32-b565-4f9a31b0b63f</td>\n",
              "      <td>Đề xuất xây đường kéo dài đại lộ Thăng Long</td>\n",
              "      <td>Ngày 17/5, đại diện Bộ Giao thông Vận tải cho ...</td>\n",
              "      <td>0</td>\n",
              "    </tr>\n",
              "    <tr>\n",
              "      <th>1</th>\n",
              "      <td>1</td>\n",
              "      <td>4fa7b6b0-5969-4927-9392-d9981971d3e3</td>\n",
              "      <td>Đề xuất xây thêm bãi đỗ xe tại sân bay Nội Bài</td>\n",
              "      <td>Theo đề xuất của Cục Hàng không Việt Nam gửi B...</td>\n",
              "      <td>0</td>\n",
              "    </tr>\n",
              "    <tr>\n",
              "      <th>2</th>\n",
              "      <td>2</td>\n",
              "      <td>ef592a33-23e7-496e-a7bd-0cef5f4b3cd2</td>\n",
              "      <td>Đề xuất xóa 4 tổng cục thuộc Bộ Nông nghiệp</td>\n",
              "      <td>Theo dự thảo nghị định quy định chức năng, nhi...</td>\n",
              "      <td>0</td>\n",
              "    </tr>\n",
              "    <tr>\n",
              "      <th>3</th>\n",
              "      <td>3</td>\n",
              "      <td>3a699019-f1a8-4d25-8427-1f1e62329521</td>\n",
              "      <td>Đề xuất xử lý hình sự hành vi thu gom sổ bảo h...</td>\n",
              "      <td>Kiến nghị được Giám đốc Sở Lao động, Thương bi...</td>\n",
              "      <td>0</td>\n",
              "    </tr>\n",
              "    <tr>\n",
              "      <th>4</th>\n",
              "      <td>4</td>\n",
              "      <td>582a4158-78be-44a0-b7e9-9019abfbf1ad</td>\n",
              "      <td>Đêm hội trăng rằm của trẻ có hoàn cảnh khó khăn</td>\n",
              "      <td>Chương trình mở cửa miễn phí với nhiều tiết mụ...</td>\n",
              "      <td>0</td>\n",
              "    </tr>\n",
              "  </tbody>\n",
              "</table>\n",
              "</div>\n",
              "      <button class=\"colab-df-convert\" onclick=\"convertToInteractive('df-33cca394-7440-4e25-8af8-c652f0f7aa1d')\"\n",
              "              title=\"Convert this dataframe to an interactive table.\"\n",
              "              style=\"display:none;\">\n",
              "        \n",
              "  <svg xmlns=\"http://www.w3.org/2000/svg\" height=\"24px\"viewBox=\"0 0 24 24\"\n",
              "       width=\"24px\">\n",
              "    <path d=\"M0 0h24v24H0V0z\" fill=\"none\"/>\n",
              "    <path d=\"M18.56 5.44l.94 2.06.94-2.06 2.06-.94-2.06-.94-.94-2.06-.94 2.06-2.06.94zm-11 1L8.5 8.5l.94-2.06 2.06-.94-2.06-.94L8.5 2.5l-.94 2.06-2.06.94zm10 10l.94 2.06.94-2.06 2.06-.94-2.06-.94-.94-2.06-.94 2.06-2.06.94z\"/><path d=\"M17.41 7.96l-1.37-1.37c-.4-.4-.92-.59-1.43-.59-.52 0-1.04.2-1.43.59L10.3 9.45l-7.72 7.72c-.78.78-.78 2.05 0 2.83L4 21.41c.39.39.9.59 1.41.59.51 0 1.02-.2 1.41-.59l7.78-7.78 2.81-2.81c.8-.78.8-2.07 0-2.86zM5.41 20L4 18.59l7.72-7.72 1.47 1.35L5.41 20z\"/>\n",
              "  </svg>\n",
              "      </button>\n",
              "      \n",
              "  <style>\n",
              "    .colab-df-container {\n",
              "      display:flex;\n",
              "      flex-wrap:wrap;\n",
              "      gap: 12px;\n",
              "    }\n",
              "\n",
              "    .colab-df-convert {\n",
              "      background-color: #E8F0FE;\n",
              "      border: none;\n",
              "      border-radius: 50%;\n",
              "      cursor: pointer;\n",
              "      display: none;\n",
              "      fill: #1967D2;\n",
              "      height: 32px;\n",
              "      padding: 0 0 0 0;\n",
              "      width: 32px;\n",
              "    }\n",
              "\n",
              "    .colab-df-convert:hover {\n",
              "      background-color: #E2EBFA;\n",
              "      box-shadow: 0px 1px 2px rgba(60, 64, 67, 0.3), 0px 1px 3px 1px rgba(60, 64, 67, 0.15);\n",
              "      fill: #174EA6;\n",
              "    }\n",
              "\n",
              "    [theme=dark] .colab-df-convert {\n",
              "      background-color: #3B4455;\n",
              "      fill: #D2E3FC;\n",
              "    }\n",
              "\n",
              "    [theme=dark] .colab-df-convert:hover {\n",
              "      background-color: #434B5C;\n",
              "      box-shadow: 0px 1px 3px 1px rgba(0, 0, 0, 0.15);\n",
              "      filter: drop-shadow(0px 1px 2px rgba(0, 0, 0, 0.3));\n",
              "      fill: #FFFFFF;\n",
              "    }\n",
              "  </style>\n",
              "\n",
              "      <script>\n",
              "        const buttonEl =\n",
              "          document.querySelector('#df-33cca394-7440-4e25-8af8-c652f0f7aa1d button.colab-df-convert');\n",
              "        buttonEl.style.display =\n",
              "          google.colab.kernel.accessAllowed ? 'block' : 'none';\n",
              "\n",
              "        async function convertToInteractive(key) {\n",
              "          const element = document.querySelector('#df-33cca394-7440-4e25-8af8-c652f0f7aa1d');\n",
              "          const dataTable =\n",
              "            await google.colab.kernel.invokeFunction('convertToInteractive',\n",
              "                                                     [key], {});\n",
              "          if (!dataTable) return;\n",
              "\n",
              "          const docLinkHtml = 'Like what you see? Visit the ' +\n",
              "            '<a target=\"_blank\" href=https://colab.research.google.com/notebooks/data_table.ipynb>data table notebook</a>'\n",
              "            + ' to learn more about interactive tables.';\n",
              "          element.innerHTML = '';\n",
              "          dataTable['output_type'] = 'display_data';\n",
              "          await google.colab.output.renderOutput(dataTable, element);\n",
              "          const docLink = document.createElement('div');\n",
              "          docLink.innerHTML = docLinkHtml;\n",
              "          element.appendChild(docLink);\n",
              "        }\n",
              "      </script>\n",
              "    </div>\n",
              "  </div>\n",
              "  "
            ]
          },
          "metadata": {},
          "execution_count": 6
        }
      ]
    },
    {
      "cell_type": "code",
      "source": [
        "test_df.head()"
      ],
      "metadata": {
        "colab": {
          "base_uri": "https://localhost:8080/",
          "height": 206
        },
        "id": "GhI_5Na6P5_8",
        "outputId": "b01db338-22cf-433a-810e-dbcae7aca7f4"
      },
      "execution_count": 7,
      "outputs": [
        {
          "output_type": "execute_result",
          "data": {
            "text/plain": [
              "   Unnamed: 0                                    id  \\\n",
              "0           0  efde56c2-b0d4-4aef-91dd-874058c186ac   \n",
              "1           1  26af923d-7550-4d59-a5cd-1ccfb2e988ff   \n",
              "2           2  9bc5be8f-460f-46e7-b418-3e3a3464e43e   \n",
              "3           3  adfad0b4-7924-483e-ac26-2e12de121ca0   \n",
              "4           4  2e4ab952-2a50-41fc-a32b-f40c51495157   \n",
              "\n",
              "                                               title  \\\n",
              "0            1.000 ha dừa Bến Tre nhiễm sâu đầu đen    \n",
              "1         1.000 túi thuốc hỗ trợ F0 điều trị tại nhà   \n",
              "2  1/4 số thực tập sinh Nhật Bản trở về Việt Nam ...   \n",
              "3  1,5 triệu người chưa nhận, TP HCM kéo dài hỗ t...   \n",
              "4              1.500 tỷ đồng xây mới cầu Trà Khúc 1    \n",
              "\n",
              "                                             content  label  \n",
              "0  Sáng gần giữa tháng tư, ông Nguyễn Long Hổ (50...      0  \n",
              "1  Sáng 17/9, 1.000 túi thuốc đóng gói sẵn được c...      0  \n",
              "2  Cơ quan Hợp tác Quốc tế Nhật Bản (JICA) vừa cô...      0  \n",
              "3  Chiều 22/10, Giám đốc Sở Lao động, Thương binh...      0  \n",
              "4  Chiều 19/4, Chủ tịch UBND Quảng Ngãi Đặng Văn ...      0  "
            ],
            "text/html": [
              "\n",
              "  <div id=\"df-21e71e14-3218-4f60-b77f-48ef7cf9840d\">\n",
              "    <div class=\"colab-df-container\">\n",
              "      <div>\n",
              "<style scoped>\n",
              "    .dataframe tbody tr th:only-of-type {\n",
              "        vertical-align: middle;\n",
              "    }\n",
              "\n",
              "    .dataframe tbody tr th {\n",
              "        vertical-align: top;\n",
              "    }\n",
              "\n",
              "    .dataframe thead th {\n",
              "        text-align: right;\n",
              "    }\n",
              "</style>\n",
              "<table border=\"1\" class=\"dataframe\">\n",
              "  <thead>\n",
              "    <tr style=\"text-align: right;\">\n",
              "      <th></th>\n",
              "      <th>Unnamed: 0</th>\n",
              "      <th>id</th>\n",
              "      <th>title</th>\n",
              "      <th>content</th>\n",
              "      <th>label</th>\n",
              "    </tr>\n",
              "  </thead>\n",
              "  <tbody>\n",
              "    <tr>\n",
              "      <th>0</th>\n",
              "      <td>0</td>\n",
              "      <td>efde56c2-b0d4-4aef-91dd-874058c186ac</td>\n",
              "      <td>1.000 ha dừa Bến Tre nhiễm sâu đầu đen</td>\n",
              "      <td>Sáng gần giữa tháng tư, ông Nguyễn Long Hổ (50...</td>\n",
              "      <td>0</td>\n",
              "    </tr>\n",
              "    <tr>\n",
              "      <th>1</th>\n",
              "      <td>1</td>\n",
              "      <td>26af923d-7550-4d59-a5cd-1ccfb2e988ff</td>\n",
              "      <td>1.000 túi thuốc hỗ trợ F0 điều trị tại nhà</td>\n",
              "      <td>Sáng 17/9, 1.000 túi thuốc đóng gói sẵn được c...</td>\n",
              "      <td>0</td>\n",
              "    </tr>\n",
              "    <tr>\n",
              "      <th>2</th>\n",
              "      <td>2</td>\n",
              "      <td>9bc5be8f-460f-46e7-b418-3e3a3464e43e</td>\n",
              "      <td>1/4 số thực tập sinh Nhật Bản trở về Việt Nam ...</td>\n",
              "      <td>Cơ quan Hợp tác Quốc tế Nhật Bản (JICA) vừa cô...</td>\n",
              "      <td>0</td>\n",
              "    </tr>\n",
              "    <tr>\n",
              "      <th>3</th>\n",
              "      <td>3</td>\n",
              "      <td>adfad0b4-7924-483e-ac26-2e12de121ca0</td>\n",
              "      <td>1,5 triệu người chưa nhận, TP HCM kéo dài hỗ t...</td>\n",
              "      <td>Chiều 22/10, Giám đốc Sở Lao động, Thương binh...</td>\n",
              "      <td>0</td>\n",
              "    </tr>\n",
              "    <tr>\n",
              "      <th>4</th>\n",
              "      <td>4</td>\n",
              "      <td>2e4ab952-2a50-41fc-a32b-f40c51495157</td>\n",
              "      <td>1.500 tỷ đồng xây mới cầu Trà Khúc 1</td>\n",
              "      <td>Chiều 19/4, Chủ tịch UBND Quảng Ngãi Đặng Văn ...</td>\n",
              "      <td>0</td>\n",
              "    </tr>\n",
              "  </tbody>\n",
              "</table>\n",
              "</div>\n",
              "      <button class=\"colab-df-convert\" onclick=\"convertToInteractive('df-21e71e14-3218-4f60-b77f-48ef7cf9840d')\"\n",
              "              title=\"Convert this dataframe to an interactive table.\"\n",
              "              style=\"display:none;\">\n",
              "        \n",
              "  <svg xmlns=\"http://www.w3.org/2000/svg\" height=\"24px\"viewBox=\"0 0 24 24\"\n",
              "       width=\"24px\">\n",
              "    <path d=\"M0 0h24v24H0V0z\" fill=\"none\"/>\n",
              "    <path d=\"M18.56 5.44l.94 2.06.94-2.06 2.06-.94-2.06-.94-.94-2.06-.94 2.06-2.06.94zm-11 1L8.5 8.5l.94-2.06 2.06-.94-2.06-.94L8.5 2.5l-.94 2.06-2.06.94zm10 10l.94 2.06.94-2.06 2.06-.94-2.06-.94-.94-2.06-.94 2.06-2.06.94z\"/><path d=\"M17.41 7.96l-1.37-1.37c-.4-.4-.92-.59-1.43-.59-.52 0-1.04.2-1.43.59L10.3 9.45l-7.72 7.72c-.78.78-.78 2.05 0 2.83L4 21.41c.39.39.9.59 1.41.59.51 0 1.02-.2 1.41-.59l7.78-7.78 2.81-2.81c.8-.78.8-2.07 0-2.86zM5.41 20L4 18.59l7.72-7.72 1.47 1.35L5.41 20z\"/>\n",
              "  </svg>\n",
              "      </button>\n",
              "      \n",
              "  <style>\n",
              "    .colab-df-container {\n",
              "      display:flex;\n",
              "      flex-wrap:wrap;\n",
              "      gap: 12px;\n",
              "    }\n",
              "\n",
              "    .colab-df-convert {\n",
              "      background-color: #E8F0FE;\n",
              "      border: none;\n",
              "      border-radius: 50%;\n",
              "      cursor: pointer;\n",
              "      display: none;\n",
              "      fill: #1967D2;\n",
              "      height: 32px;\n",
              "      padding: 0 0 0 0;\n",
              "      width: 32px;\n",
              "    }\n",
              "\n",
              "    .colab-df-convert:hover {\n",
              "      background-color: #E2EBFA;\n",
              "      box-shadow: 0px 1px 2px rgba(60, 64, 67, 0.3), 0px 1px 3px 1px rgba(60, 64, 67, 0.15);\n",
              "      fill: #174EA6;\n",
              "    }\n",
              "\n",
              "    [theme=dark] .colab-df-convert {\n",
              "      background-color: #3B4455;\n",
              "      fill: #D2E3FC;\n",
              "    }\n",
              "\n",
              "    [theme=dark] .colab-df-convert:hover {\n",
              "      background-color: #434B5C;\n",
              "      box-shadow: 0px 1px 3px 1px rgba(0, 0, 0, 0.15);\n",
              "      filter: drop-shadow(0px 1px 2px rgba(0, 0, 0, 0.3));\n",
              "      fill: #FFFFFF;\n",
              "    }\n",
              "  </style>\n",
              "\n",
              "      <script>\n",
              "        const buttonEl =\n",
              "          document.querySelector('#df-21e71e14-3218-4f60-b77f-48ef7cf9840d button.colab-df-convert');\n",
              "        buttonEl.style.display =\n",
              "          google.colab.kernel.accessAllowed ? 'block' : 'none';\n",
              "\n",
              "        async function convertToInteractive(key) {\n",
              "          const element = document.querySelector('#df-21e71e14-3218-4f60-b77f-48ef7cf9840d');\n",
              "          const dataTable =\n",
              "            await google.colab.kernel.invokeFunction('convertToInteractive',\n",
              "                                                     [key], {});\n",
              "          if (!dataTable) return;\n",
              "\n",
              "          const docLinkHtml = 'Like what you see? Visit the ' +\n",
              "            '<a target=\"_blank\" href=https://colab.research.google.com/notebooks/data_table.ipynb>data table notebook</a>'\n",
              "            + ' to learn more about interactive tables.';\n",
              "          element.innerHTML = '';\n",
              "          dataTable['output_type'] = 'display_data';\n",
              "          await google.colab.output.renderOutput(dataTable, element);\n",
              "          const docLink = document.createElement('div');\n",
              "          docLink.innerHTML = docLinkHtml;\n",
              "          element.appendChild(docLink);\n",
              "        }\n",
              "      </script>\n",
              "    </div>\n",
              "  </div>\n",
              "  "
            ]
          },
          "metadata": {},
          "execution_count": 7
        }
      ]
    },
    {
      "cell_type": "code",
      "source": [
        "labels = []\n",
        "for label in train_df['label']:\n",
        "    labels.append(label)\n",
        "\n",
        "\n",
        "labels = list(set(labels))\n",
        "print(f\"Có tổng cộng {len(labels)} nhãn\")\n",
        "print(list(set(labels)))"
      ],
      "metadata": {
        "colab": {
          "base_uri": "https://localhost:8080/"
        },
        "id": "x6yUcIRDY-tr",
        "outputId": "2ff9e8bb-6a78-43db-c708-d9994e68f7c8"
      },
      "execution_count": 8,
      "outputs": [
        {
          "output_type": "stream",
          "name": "stdout",
          "text": [
            "Có tổng cộng 11 nhãn\n",
            "[0, 1, 2, 3, 4, 5, 6, 7, 8, 9, 10]\n"
          ]
        }
      ]
    },
    {
      "cell_type": "code",
      "source": [
        "id2label = {\n",
        "    0: 'thời sự',\n",
        "    1: 'thế giới',\n",
        "    2: 'kinh doanh',\n",
        "    3: 'thể thao',\n",
        "    4: 'giải trí',\n",
        "    5: 'pháp luật',\n",
        "    6: 'sức khỏe',\n",
        "    7: 'giáo dục',\n",
        "    8: 'khoa học - công nghệ',\n",
        "    9: 'du lịch - ẩm thực',\n",
        "    10: 'oto xe máy'\n",
        "}\n",
        "\n",
        "\n",
        "label_names = [id2label[i] for i in range(len(labels))]\n",
        "print(label_names)"
      ],
      "metadata": {
        "colab": {
          "base_uri": "https://localhost:8080/"
        },
        "id": "M6jLWcCDkWBe",
        "outputId": "caf2fc0e-f2fb-4376-d843-7b4e11085cbf"
      },
      "execution_count": 9,
      "outputs": [
        {
          "output_type": "stream",
          "name": "stdout",
          "text": [
            "['thời sự', 'thế giới', 'kinh doanh', 'thể thao', 'giải trí', 'pháp luật', 'sức khỏe', 'giáo dục', 'khoa học - công nghệ', 'du lịch - ẩm thực', 'oto xe máy']\n"
          ]
        }
      ]
    },
    {
      "cell_type": "markdown",
      "source": [
        "# Các hàm hỗ trợ"
      ],
      "metadata": {
        "id": "RAOBs7dThWK1"
      }
    },
    {
      "cell_type": "code",
      "source": [
        "def get_corpus_and_label(df):\n",
        "    title = [title for title in df['title']]\n",
        "    content = [content for content in df['content']]\n",
        "    label = [label for label in df['label']]\n",
        "\n",
        "    corpus = []\n",
        "    for index in range(len(title)):\n",
        "        # merge tiêu đề và nội dung bài viết\n",
        "        text = title[index] + ' ' + content[index]\n",
        "        corpus.append(text)\n",
        "    \n",
        "    return label, corpus"
      ],
      "metadata": {
        "id": "9L7QoOlecslE"
      },
      "execution_count": 10,
      "outputs": []
    },
    {
      "cell_type": "code",
      "source": [
        "# Lấy nhãn và corpus từ dataset\n",
        "\n",
        "train_label, train_corpus = get_corpus_and_label(train_df)\n",
        "test_label, test_corpus = get_corpus_and_label(test_df)"
      ],
      "metadata": {
        "id": "lVxI7PlPi3nu"
      },
      "execution_count": 11,
      "outputs": []
    },
    {
      "cell_type": "code",
      "source": [
        "# sns.set(font_scale=1.4)\n",
        "# cm = confusion_matrix(y_test, y_pred) \n",
        "# cm_df = pd.DataFrame(cm,\n",
        "#                      index = label_names, \n",
        "#                      columns = label_names)\n",
        "\n",
        "# plt.figure(figsize=(10,8))\n",
        "# sns.heatmap(cm_df, annot=True, fmt=\"d\",annot_kws={\"size\": 18})\n",
        "# plt.ylabel('True label')\n",
        "# plt.xlabel('Predicted label')\n",
        "# plt.title('Countvector')\n",
        "# plt.show()"
      ],
      "metadata": {
        "id": "Y3KL-GQ1ifBs"
      },
      "execution_count": 12,
      "outputs": []
    },
    {
      "cell_type": "markdown",
      "source": [
        "# Train và Test"
      ],
      "metadata": {
        "id": "S1k3Zqb_hOKY"
      }
    },
    {
      "cell_type": "markdown",
      "source": [
        "## CountVectorizer"
      ],
      "metadata": {
        "id": "Nu3I2kCDwskH"
      }
    },
    {
      "cell_type": "code",
      "source": [
        "cv = CountVectorizer(max_features=5000)\n",
        "\n",
        "x_train = cv.fit_transform(train_corpus).toarray()\n",
        "y_train = np.array(train_label)\n",
        "\n",
        "x_test = cv.transform(test_corpus).toarray()\n",
        "y_test = np.array(test_label)"
      ],
      "metadata": {
        "id": "qkNRTUTPxLId"
      },
      "execution_count": 13,
      "outputs": []
    },
    {
      "cell_type": "code",
      "source": [
        "# Naive Bayes\n",
        "# Train\n",
        "nb_classifier_1 = MultinomialNB()\n",
        "nb_classifier_1.fit(x_train, y_train)\n",
        "\n",
        "# Test\n",
        "y_pred = nb_classifier_1.predict(x_test)\n",
        "nb1_acc = accuracy_score(y_test, y_pred)\n",
        "\n",
        "print(nb_classifier_1.__class__.__name__, nb1_acc)"
      ],
      "metadata": {
        "id": "o2StcyXdZnRj",
        "colab": {
          "base_uri": "https://localhost:8080/"
        },
        "outputId": "17545146-e2b3-4d7d-bf10-5d0d60972bd9"
      },
      "execution_count": 14,
      "outputs": [
        {
          "output_type": "stream",
          "name": "stdout",
          "text": [
            "MultinomialNB 0.8129090909090909\n"
          ]
        }
      ]
    },
    {
      "cell_type": "code",
      "source": [
        "# Logistic Regression\n",
        "# Train\n",
        "lr_classifier_1 = LogisticRegression(multi_class='multinomial')\n",
        "lr_classifier_1.fit(x_train, y_train)\n",
        "\n",
        "# Test\n",
        "y_pred = lr_classifier_1.predict(x_test)\n",
        "lr1_acc = accuracy_score(y_test, y_pred)\n",
        "\n",
        "print(lr_classifier_1.__class__.__name__, lr1_acc)"
      ],
      "metadata": {
        "colab": {
          "base_uri": "https://localhost:8080/"
        },
        "id": "OGsk2NzclArH",
        "outputId": "7f110198-6a8d-44b1-da6d-85056dc4a050"
      },
      "execution_count": 15,
      "outputs": [
        {
          "output_type": "stream",
          "name": "stderr",
          "text": [
            "/usr/local/lib/python3.7/dist-packages/sklearn/linear_model/_logistic.py:818: ConvergenceWarning: lbfgs failed to converge (status=1):\n",
            "STOP: TOTAL NO. of ITERATIONS REACHED LIMIT.\n",
            "\n",
            "Increase the number of iterations (max_iter) or scale the data as shown in:\n",
            "    https://scikit-learn.org/stable/modules/preprocessing.html\n",
            "Please also refer to the documentation for alternative solver options:\n",
            "    https://scikit-learn.org/stable/modules/linear_model.html#logistic-regression\n",
            "  extra_warning_msg=_LOGISTIC_SOLVER_CONVERGENCE_MSG,\n"
          ]
        },
        {
          "output_type": "stream",
          "name": "stdout",
          "text": [
            "LogisticRegression 0.8859090909090909\n"
          ]
        }
      ]
    },
    {
      "cell_type": "code",
      "source": [
        "# Decision Tree \n",
        "# Train\n",
        "tree_classifier_1 = DecisionTreeClassifier()\n",
        "tree_classifier_1.fit(x_train, y_train)\n",
        "\n",
        "# Test\n",
        "y_pred = tree_classifier_1.predict(x_test)\n",
        "tree1_acc = accuracy_score(y_test, y_pred)\n",
        "\n",
        "print(tree_classifier_1.__class__.__name__, tree1_acc)"
      ],
      "metadata": {
        "colab": {
          "base_uri": "https://localhost:8080/"
        },
        "id": "UFRjm_VwmCeh",
        "outputId": "51947944-54de-425c-8d30-d6d76ccf6753"
      },
      "execution_count": 16,
      "outputs": [
        {
          "output_type": "stream",
          "name": "stdout",
          "text": [
            "DecisionTreeClassifier 0.7191818181818181\n"
          ]
        }
      ]
    },
    {
      "cell_type": "code",
      "source": [
        "# SVM\n",
        "# Train\n",
        "svm_classifier_1 = LinearSVC()\n",
        "svm_classifier_1.fit(x_train, y_train)\n",
        "\n",
        "# Test\n",
        "y_pred = svm_classifier_1.predict(x_test)\n",
        "svm1_acc = accuracy_score(y_test, y_pred)\n",
        "\n",
        "print(svm_classifier_1.__class__.__name__, svm1_acc)"
      ],
      "metadata": {
        "colab": {
          "base_uri": "https://localhost:8080/"
        },
        "id": "3KPRr9WMo3Ul",
        "outputId": "a3d03136-f919-46f3-be3a-86987fde4fc6"
      },
      "execution_count": 17,
      "outputs": [
        {
          "output_type": "stream",
          "name": "stderr",
          "text": [
            "/usr/local/lib/python3.7/dist-packages/sklearn/svm/_base.py:1208: ConvergenceWarning: Liblinear failed to converge, increase the number of iterations.\n",
            "  ConvergenceWarning,\n"
          ]
        },
        {
          "output_type": "stream",
          "name": "stdout",
          "text": [
            "LinearSVC 0.8828181818181818\n"
          ]
        }
      ]
    },
    {
      "cell_type": "code",
      "source": [
        "# KNeighborsClassifier\n",
        "# Train\n",
        "knn_classifier_1 = KNeighborsClassifier(n_neighbors=3)\n",
        "knn_classifier_1.fit(x_train, y_train)\n",
        "\n",
        "# Test\n",
        "y_pred = knn_classifier_1.predict(x_test)\n",
        "knn1_acc = accuracy_score(y_test, y_pred)\n",
        "\n",
        "print(knn_classifier_1.__class__.__name__, knn1_acc)"
      ],
      "metadata": {
        "colab": {
          "base_uri": "https://localhost:8080/"
        },
        "id": "bL-oBT8ZOSJ6",
        "outputId": "a8eb9afa-1a2f-43d0-e7c4-2f1e4ac15196"
      },
      "execution_count": 18,
      "outputs": [
        {
          "output_type": "stream",
          "name": "stdout",
          "text": [
            "KNeighborsClassifier 0.8280909090909091\n"
          ]
        }
      ]
    },
    {
      "cell_type": "markdown",
      "source": [
        "## Tfidf"
      ],
      "metadata": {
        "id": "ExUQ3_X8xCcp"
      }
    },
    {
      "cell_type": "code",
      "source": [
        "cv = TfidfVectorizer(max_features=5000)\n",
        "x_train = cv.fit_transform(train_corpus).toarray()\n",
        "y_train = np.array(train_label)\n",
        "x_test = cv.transform(test_corpus).toarray()\n",
        "y_test = np.array(test_label)"
      ],
      "metadata": {
        "id": "QHJET8VVyZIQ"
      },
      "execution_count": 19,
      "outputs": []
    },
    {
      "cell_type": "code",
      "source": [
        "# Naive Bayes\n",
        "# Train\n",
        "nb_classifier_2 = MultinomialNB()\n",
        "nb_classifier_2.fit(x_train, y_train)\n",
        "\n",
        "# Test\n",
        "y_pred = nb_classifier_2.predict(x_test)\n",
        "nb2_acc = accuracy_score(y_test, y_pred)\n",
        "\n",
        "print(nb_classifier_2.__class__.__name__, nb2_acc)"
      ],
      "metadata": {
        "id": "3oQ9azMdjb3t",
        "colab": {
          "base_uri": "https://localhost:8080/"
        },
        "outputId": "c7ff9b78-1b62-4b83-d0cc-e809dff12a48"
      },
      "execution_count": 20,
      "outputs": [
        {
          "output_type": "stream",
          "name": "stdout",
          "text": [
            "MultinomialNB 0.8098181818181818\n"
          ]
        }
      ]
    },
    {
      "cell_type": "code",
      "source": [
        "# Logistic Regression\n",
        "# Train\n",
        "lr_classifier_2 = LogisticRegression(multi_class='multinomial')\n",
        "lr_classifier_2.fit(x_train, y_train)\n",
        "\n",
        "# Test\n",
        "y_pred = lr_classifier_2.predict(x_test)\n",
        "lr2_acc = accuracy_score(y_test, y_pred)\n",
        "\n",
        "print(lr_classifier_2.__class__.__name__, lr2_acc)"
      ],
      "metadata": {
        "colab": {
          "base_uri": "https://localhost:8080/"
        },
        "id": "gxXkL-vclOps",
        "outputId": "2b8db5a2-9b44-4f15-cde3-94ef85dcc0db"
      },
      "execution_count": 21,
      "outputs": [
        {
          "output_type": "stream",
          "name": "stderr",
          "text": [
            "/usr/local/lib/python3.7/dist-packages/sklearn/linear_model/_logistic.py:818: ConvergenceWarning: lbfgs failed to converge (status=1):\n",
            "STOP: TOTAL NO. of ITERATIONS REACHED LIMIT.\n",
            "\n",
            "Increase the number of iterations (max_iter) or scale the data as shown in:\n",
            "    https://scikit-learn.org/stable/modules/preprocessing.html\n",
            "Please also refer to the documentation for alternative solver options:\n",
            "    https://scikit-learn.org/stable/modules/linear_model.html#logistic-regression\n",
            "  extra_warning_msg=_LOGISTIC_SOLVER_CONVERGENCE_MSG,\n"
          ]
        },
        {
          "output_type": "stream",
          "name": "stdout",
          "text": [
            "LogisticRegression 0.9018181818181819\n"
          ]
        }
      ]
    },
    {
      "cell_type": "code",
      "source": [
        "# Decision Tree \n",
        "# Train\n",
        "tree_classifier_2 = DecisionTreeClassifier()\n",
        "tree_classifier_2.fit(x_train, y_train)\n",
        "\n",
        "# Test\n",
        "y_pred = tree_classifier_2.predict(x_test)\n",
        "tree2_acc = accuracy_score(y_test, y_pred)\n",
        "\n",
        "print(tree_classifier_2.__class__.__name__, tree2_acc)"
      ],
      "metadata": {
        "colab": {
          "base_uri": "https://localhost:8080/"
        },
        "id": "9rnMCgZlmLS8",
        "outputId": "64ac46dd-f382-40ef-dce9-c744639f6c57"
      },
      "execution_count": 22,
      "outputs": [
        {
          "output_type": "stream",
          "name": "stdout",
          "text": [
            "DecisionTreeClassifier 0.7151818181818181\n"
          ]
        }
      ]
    },
    {
      "cell_type": "code",
      "source": [
        "# SVM\n",
        "# Train\n",
        "svm_classifier_2 = LinearSVC()\n",
        "svm_classifier_2.fit(x_train, y_train)\n",
        "\n",
        "# Test\n",
        "y_pred = svm_classifier_2.predict(x_test)\n",
        "svm2_acc = accuracy_score(y_test, y_pred)\n",
        "\n",
        "print(svm_classifier_2.__class__.__name__, svm2_acc)"
      ],
      "metadata": {
        "colab": {
          "base_uri": "https://localhost:8080/"
        },
        "id": "ZrsQE8sho_i4",
        "outputId": "f59813bf-707b-403d-fb51-e2b24b0b6de0"
      },
      "execution_count": 23,
      "outputs": [
        {
          "output_type": "stream",
          "name": "stdout",
          "text": [
            "LinearSVC 0.9157272727272727\n"
          ]
        }
      ]
    },
    {
      "cell_type": "code",
      "source": [
        "# KNeighborsClassifier\n",
        "# Train\n",
        "knn_classifier_2 = KNeighborsClassifier(n_neighbors=3)\n",
        "knn_classifier_2.fit(x_train, y_train)\n",
        "\n",
        "# Test\n",
        "y_pred = knn_classifier_2.predict(x_test)\n",
        "knn2_acc = accuracy_score(y_test, y_pred)\n",
        "\n",
        "print(knn_classifier_2.__class__.__name__, knn2_acc)"
      ],
      "metadata": {
        "colab": {
          "base_uri": "https://localhost:8080/"
        },
        "id": "op1XdsxNOkQ9",
        "outputId": "c8a1f379-7c34-4bbb-e863-1c6a09f259b4"
      },
      "execution_count": 33,
      "outputs": [
        {
          "output_type": "stream",
          "name": "stdout",
          "text": [
            "KNeighborsClassifier 0.8318181818181818\n"
          ]
        }
      ]
    },
    {
      "cell_type": "markdown",
      "source": [
        "# TỔNG HỢP"
      ],
      "metadata": {
        "id": "x9_P7vabq0gx"
      }
    },
    {
      "cell_type": "code",
      "source": [
        "board = pd.DataFrame(\n",
        "    index = ['Naive Bayes', 'Logictic Regression', 'Decision Tree', 'SVM', 'KNN'],\n",
        "    columns= ['Countvector', 'Tfidf'],\n",
        "    data= [\n",
        "              [nb1_acc,nb2_acc],\n",
        "              [lr1_acc,lr2_acc],\n",
        "              [tree1_acc, tree2_acc],\n",
        "              [svm1_acc, svm2_acc],\n",
        "              [knn1_acc, knn2_acc]\n",
        "          ]\n",
        ")"
      ],
      "metadata": {
        "id": "I2--l7-2q2sJ"
      },
      "execution_count": 29,
      "outputs": []
    },
    {
      "cell_type": "code",
      "source": [
        "board"
      ],
      "metadata": {
        "colab": {
          "base_uri": "https://localhost:8080/",
          "height": 206
        },
        "id": "iDp0velyrcV1",
        "outputId": "964b2632-6253-40e9-b99c-acde27a5ccb5"
      },
      "execution_count": 30,
      "outputs": [
        {
          "output_type": "execute_result",
          "data": {
            "text/plain": [
              "                     Countvector     Tfidf\n",
              "Naive Bayes             0.812909  0.809818\n",
              "Logictic Regression     0.885909  0.901818\n",
              "Decision Tree           0.719182  0.715182\n",
              "SVM                     0.882818  0.915727\n",
              "KNN                     0.828091  0.831818"
            ],
            "text/html": [
              "\n",
              "  <div id=\"df-52377c03-32db-4e69-9246-4e5f03a8fdb7\">\n",
              "    <div class=\"colab-df-container\">\n",
              "      <div>\n",
              "<style scoped>\n",
              "    .dataframe tbody tr th:only-of-type {\n",
              "        vertical-align: middle;\n",
              "    }\n",
              "\n",
              "    .dataframe tbody tr th {\n",
              "        vertical-align: top;\n",
              "    }\n",
              "\n",
              "    .dataframe thead th {\n",
              "        text-align: right;\n",
              "    }\n",
              "</style>\n",
              "<table border=\"1\" class=\"dataframe\">\n",
              "  <thead>\n",
              "    <tr style=\"text-align: right;\">\n",
              "      <th></th>\n",
              "      <th>Countvector</th>\n",
              "      <th>Tfidf</th>\n",
              "    </tr>\n",
              "  </thead>\n",
              "  <tbody>\n",
              "    <tr>\n",
              "      <th>Naive Bayes</th>\n",
              "      <td>0.812909</td>\n",
              "      <td>0.809818</td>\n",
              "    </tr>\n",
              "    <tr>\n",
              "      <th>Logictic Regression</th>\n",
              "      <td>0.885909</td>\n",
              "      <td>0.901818</td>\n",
              "    </tr>\n",
              "    <tr>\n",
              "      <th>Decision Tree</th>\n",
              "      <td>0.719182</td>\n",
              "      <td>0.715182</td>\n",
              "    </tr>\n",
              "    <tr>\n",
              "      <th>SVM</th>\n",
              "      <td>0.882818</td>\n",
              "      <td>0.915727</td>\n",
              "    </tr>\n",
              "    <tr>\n",
              "      <th>KNN</th>\n",
              "      <td>0.828091</td>\n",
              "      <td>0.831818</td>\n",
              "    </tr>\n",
              "  </tbody>\n",
              "</table>\n",
              "</div>\n",
              "      <button class=\"colab-df-convert\" onclick=\"convertToInteractive('df-52377c03-32db-4e69-9246-4e5f03a8fdb7')\"\n",
              "              title=\"Convert this dataframe to an interactive table.\"\n",
              "              style=\"display:none;\">\n",
              "        \n",
              "  <svg xmlns=\"http://www.w3.org/2000/svg\" height=\"24px\"viewBox=\"0 0 24 24\"\n",
              "       width=\"24px\">\n",
              "    <path d=\"M0 0h24v24H0V0z\" fill=\"none\"/>\n",
              "    <path d=\"M18.56 5.44l.94 2.06.94-2.06 2.06-.94-2.06-.94-.94-2.06-.94 2.06-2.06.94zm-11 1L8.5 8.5l.94-2.06 2.06-.94-2.06-.94L8.5 2.5l-.94 2.06-2.06.94zm10 10l.94 2.06.94-2.06 2.06-.94-2.06-.94-.94-2.06-.94 2.06-2.06.94z\"/><path d=\"M17.41 7.96l-1.37-1.37c-.4-.4-.92-.59-1.43-.59-.52 0-1.04.2-1.43.59L10.3 9.45l-7.72 7.72c-.78.78-.78 2.05 0 2.83L4 21.41c.39.39.9.59 1.41.59.51 0 1.02-.2 1.41-.59l7.78-7.78 2.81-2.81c.8-.78.8-2.07 0-2.86zM5.41 20L4 18.59l7.72-7.72 1.47 1.35L5.41 20z\"/>\n",
              "  </svg>\n",
              "      </button>\n",
              "      \n",
              "  <style>\n",
              "    .colab-df-container {\n",
              "      display:flex;\n",
              "      flex-wrap:wrap;\n",
              "      gap: 12px;\n",
              "    }\n",
              "\n",
              "    .colab-df-convert {\n",
              "      background-color: #E8F0FE;\n",
              "      border: none;\n",
              "      border-radius: 50%;\n",
              "      cursor: pointer;\n",
              "      display: none;\n",
              "      fill: #1967D2;\n",
              "      height: 32px;\n",
              "      padding: 0 0 0 0;\n",
              "      width: 32px;\n",
              "    }\n",
              "\n",
              "    .colab-df-convert:hover {\n",
              "      background-color: #E2EBFA;\n",
              "      box-shadow: 0px 1px 2px rgba(60, 64, 67, 0.3), 0px 1px 3px 1px rgba(60, 64, 67, 0.15);\n",
              "      fill: #174EA6;\n",
              "    }\n",
              "\n",
              "    [theme=dark] .colab-df-convert {\n",
              "      background-color: #3B4455;\n",
              "      fill: #D2E3FC;\n",
              "    }\n",
              "\n",
              "    [theme=dark] .colab-df-convert:hover {\n",
              "      background-color: #434B5C;\n",
              "      box-shadow: 0px 1px 3px 1px rgba(0, 0, 0, 0.15);\n",
              "      filter: drop-shadow(0px 1px 2px rgba(0, 0, 0, 0.3));\n",
              "      fill: #FFFFFF;\n",
              "    }\n",
              "  </style>\n",
              "\n",
              "      <script>\n",
              "        const buttonEl =\n",
              "          document.querySelector('#df-52377c03-32db-4e69-9246-4e5f03a8fdb7 button.colab-df-convert');\n",
              "        buttonEl.style.display =\n",
              "          google.colab.kernel.accessAllowed ? 'block' : 'none';\n",
              "\n",
              "        async function convertToInteractive(key) {\n",
              "          const element = document.querySelector('#df-52377c03-32db-4e69-9246-4e5f03a8fdb7');\n",
              "          const dataTable =\n",
              "            await google.colab.kernel.invokeFunction('convertToInteractive',\n",
              "                                                     [key], {});\n",
              "          if (!dataTable) return;\n",
              "\n",
              "          const docLinkHtml = 'Like what you see? Visit the ' +\n",
              "            '<a target=\"_blank\" href=https://colab.research.google.com/notebooks/data_table.ipynb>data table notebook</a>'\n",
              "            + ' to learn more about interactive tables.';\n",
              "          element.innerHTML = '';\n",
              "          dataTable['output_type'] = 'display_data';\n",
              "          await google.colab.output.renderOutput(dataTable, element);\n",
              "          const docLink = document.createElement('div');\n",
              "          docLink.innerHTML = docLinkHtml;\n",
              "          element.appendChild(docLink);\n",
              "        }\n",
              "      </script>\n",
              "    </div>\n",
              "  </div>\n",
              "  "
            ]
          },
          "metadata": {},
          "execution_count": 30
        }
      ]
    },
    {
      "cell_type": "markdown",
      "source": [
        "# Ensemble"
      ],
      "metadata": {
        "id": "4_tFjZVW6zj8"
      }
    },
    {
      "cell_type": "code",
      "source": [
        "from sklearn.ensemble import VotingClassifier\n",
        "\n",
        "cv = TfidfVectorizer(max_features=5000)\n",
        "x_train = cv.fit_transform(train_corpus).toarray()\n",
        "y_train = np.array(train_label)\n",
        "x_test = cv.transform(test_corpus).toarray()\n",
        "y_test = np.array(test_label)\n",
        "\n",
        "\n",
        "voting_classifier = VotingClassifier( estimators=[\n",
        "    ('nb1', nb_classifier_1),\n",
        "    ('nb2', nb_classifier_2),\n",
        "    # ('lr1', lr_classifier_1),\n",
        "    ('lr2', lr_classifier_2),\n",
        "    # ('svm1', svm_classifier_1),\n",
        "    ('svm2', svm_classifier_2)\n",
        "    ], voting='hard', weights=[1, 1, 2, 2])\n",
        "\n",
        "voting_classifier.fit(x_train, y_train)\n",
        "\n",
        "\n",
        "for clf in (nb_classifier_1,nb_classifier_2,lr_classifier_1, lr_classifier_2, svm_classifier_1, svm_classifier_2, voting_classifier):\n",
        "    y_pred = clf.predict(x_test)  \n",
        "    print(clf.__class__.__name__ , accuracy_score(y_test, y_pred))"
      ],
      "metadata": {
        "colab": {
          "base_uri": "https://localhost:8080/"
        },
        "id": "fSlRUZZa6wHX",
        "outputId": "153c91f6-9b92-4fae-b461-aeec72bf40a6"
      },
      "execution_count": 27,
      "outputs": [
        {
          "output_type": "stream",
          "name": "stderr",
          "text": [
            "/usr/local/lib/python3.7/dist-packages/sklearn/linear_model/_logistic.py:818: ConvergenceWarning: lbfgs failed to converge (status=1):\n",
            "STOP: TOTAL NO. of ITERATIONS REACHED LIMIT.\n",
            "\n",
            "Increase the number of iterations (max_iter) or scale the data as shown in:\n",
            "    https://scikit-learn.org/stable/modules/preprocessing.html\n",
            "Please also refer to the documentation for alternative solver options:\n",
            "    https://scikit-learn.org/stable/modules/linear_model.html#logistic-regression\n",
            "  extra_warning_msg=_LOGISTIC_SOLVER_CONVERGENCE_MSG,\n"
          ]
        },
        {
          "output_type": "stream",
          "name": "stdout",
          "text": [
            "MultinomialNB 0.801\n",
            "MultinomialNB 0.8098181818181818\n",
            "LogisticRegression 0.22736363636363635\n",
            "LogisticRegression 0.9018181818181819\n",
            "LinearSVC 0.6121818181818182\n",
            "LinearSVC 0.9157272727272727\n",
            "VotingClassifier 0.9022727272727272\n"
          ]
        }
      ]
    },
    {
      "cell_type": "code",
      "source": [
        "# from sklearn.ensemble import AdaBoostClassifier\n",
        "\n",
        "# adaboost_model = AdaBoostClassifier(base_estimator=svm_classifier_2, n_estimators=50, learning_rate=0.2,algorithm='SAMME')\n",
        "# adaboost_model.fit(x_train, y_train)\n",
        "# y_pred = adaboost_model.predict(x_test)\n",
        "# print(adaboost_model.__class__.__name__ , accuracy_score(y_test, y_pred))"
      ],
      "metadata": {
        "id": "qSpJN7IHGZAS"
      },
      "execution_count": 28,
      "outputs": []
    }
  ]
}