{
  "cells": [
    {
      "cell_type": "code",
      "execution_count": 50,
      "metadata": {
        "id": "GxfVFAbGXuhL"
      },
      "outputs": [],
      "source": [
        "%%capture\n",
        "\n",
        "from google.colab import drive, files\n",
        "drive.mount('/content/drive/')\n",
        "%cd /content/drive/My Drive/AI/NewsCrawl"
      ]
    },
    {
      "cell_type": "code",
      "execution_count": 51,
      "metadata": {
        "id": "wNJzw-QBYB3j"
      },
      "outputs": [],
      "source": [
        "import pandas as pd\n",
        "import numpy as np\n",
        "from glob import glob\n",
        "import pandas as pd\n",
        "import numpy as np\n",
        "import re\n",
        "import seaborn as sns\n",
        "import matplotlib.pyplot as plt\n",
        "from sklearn.naive_bayes import MultinomialNB\n",
        "from sklearn.feature_extraction.text import CountVectorizer, TfidfVectorizer\n",
        "from sklearn.metrics import accuracy_score\n",
        "from sklearn.model_selection import train_test_split\n",
        "from sklearn.metrics import confusion_matrix\n",
        "from sklearn.metrics import classification_report\n",
        "from sklearn.tree import DecisionTreeClassifier\n",
        "from sklearn.linear_model import LogisticRegression\n",
        "from sklearn.svm import LinearSVC, SVC\n",
        "from sklearn.ensemble import VotingClassifier\n",
        "from sklearn.ensemble import BaggingClassifier"
      ]
    },
    {
      "cell_type": "markdown",
      "metadata": {
        "id": "nvRIs5iqhcjY"
      },
      "source": [
        "# Load dữ liệu từ dataset"
      ]
    },
    {
      "cell_type": "code",
      "execution_count": 52,
      "metadata": {
        "colab": {
          "base_uri": "https://localhost:8080/"
        },
        "id": "gNnBCTiOYEvB",
        "outputId": "35efe50f-7c3e-410f-ac5f-cec13784377a"
      },
      "outputs": [
        {
          "data": {
            "text/plain": [
              "['./vnexpress-dantri-merged/thoi-su.xlsx',\n",
              " './vnexpress-dantri-merged/the-gioi.xlsx',\n",
              " './vnexpress-dantri-merged/kinh-doanh.xlsx',\n",
              " './vnexpress-dantri-merged/the-thao.xlsx',\n",
              " './vnexpress-dantri-merged/giai-tri.xlsx',\n",
              " './vnexpress-dantri-merged/phap-luat.xlsx',\n",
              " './vnexpress-dantri-merged/suc-khoe.xlsx',\n",
              " './vnexpress-dantri-merged/giao-duc.xlsx',\n",
              " './vnexpress-dantri-merged/khoa-hoc-cong-nghe.xlsx',\n",
              " './vnexpress-dantri-merged/du-lich.xlsx',\n",
              " './vnexpress-dantri-merged/oto-xe-may.xlsx',\n",
              " './vnexpress-dantri-merged/train.xlsx',\n",
              " './vnexpress-dantri-merged/test.xlsx']"
            ]
          },
          "execution_count": 52,
          "metadata": {},
          "output_type": "execute_result"
        }
      ],
      "source": [
        "dataset = []\n",
        "dataset.extend(glob('./vnexpress-dantri-merged/*.xlsx'))\n",
        "dataset"
      ]
    },
    {
      "cell_type": "code",
      "execution_count": 53,
      "metadata": {
        "id": "eQfT5AFlYcAL"
      },
      "outputs": [],
      "source": [
        "train_df = pd.DataFrame()\n",
        "test_df = pd.DataFrame()\n",
        "train_df = train_df.append(pd.read_excel('./vnexpress-dantri-merged/train.xlsx'), ignore_index=True)\n",
        "test_df = test_df.append(pd.read_excel('./vnexpress-dantri-merged/test.xlsx'), ignore_index=True)\n",
        "train_df.dropna(inplace = True) # Loại bỏ null\n",
        "test_df.dropna(inplace = True) # Loại bỏ null"
      ]
    },
    {
      "cell_type": "code",
      "execution_count": 54,
      "metadata": {
        "colab": {
          "base_uri": "https://localhost:8080/",
          "height": 206
        },
        "id": "gNvlRrgDP3K8",
        "outputId": "6589b0a2-cff8-49b6-cf06-cc2de71b4f51"
      },
      "outputs": [
        {
          "data": {
            "text/html": [
              "\n",
              "  <div id=\"df-8a781ebf-d781-4295-8d5e-96d30df4fa3e\">\n",
              "    <div class=\"colab-df-container\">\n",
              "      <div>\n",
              "<style scoped>\n",
              "    .dataframe tbody tr th:only-of-type {\n",
              "        vertical-align: middle;\n",
              "    }\n",
              "\n",
              "    .dataframe tbody tr th {\n",
              "        vertical-align: top;\n",
              "    }\n",
              "\n",
              "    .dataframe thead th {\n",
              "        text-align: right;\n",
              "    }\n",
              "</style>\n",
              "<table border=\"1\" class=\"dataframe\">\n",
              "  <thead>\n",
              "    <tr style=\"text-align: right;\">\n",
              "      <th></th>\n",
              "      <th>Unnamed: 0</th>\n",
              "      <th>id</th>\n",
              "      <th>title</th>\n",
              "      <th>content</th>\n",
              "      <th>label</th>\n",
              "    </tr>\n",
              "  </thead>\n",
              "  <tbody>\n",
              "    <tr>\n",
              "      <th>0</th>\n",
              "      <td>0</td>\n",
              "      <td>2fdc17c5-3abc-4a32-b565-4f9a31b0b63f</td>\n",
              "      <td>Đề xuất xây đường kéo dài đại lộ Thăng Long</td>\n",
              "      <td>Ngày 17/5, đại diện Bộ Giao thông Vận tải cho ...</td>\n",
              "      <td>0</td>\n",
              "    </tr>\n",
              "    <tr>\n",
              "      <th>1</th>\n",
              "      <td>1</td>\n",
              "      <td>4fa7b6b0-5969-4927-9392-d9981971d3e3</td>\n",
              "      <td>Đề xuất xây thêm bãi đỗ xe tại sân bay Nội Bài</td>\n",
              "      <td>Theo đề xuất của Cục Hàng không Việt Nam gửi B...</td>\n",
              "      <td>0</td>\n",
              "    </tr>\n",
              "    <tr>\n",
              "      <th>2</th>\n",
              "      <td>2</td>\n",
              "      <td>ef592a33-23e7-496e-a7bd-0cef5f4b3cd2</td>\n",
              "      <td>Đề xuất xóa 4 tổng cục thuộc Bộ Nông nghiệp</td>\n",
              "      <td>Theo dự thảo nghị định quy định chức năng, nhi...</td>\n",
              "      <td>0</td>\n",
              "    </tr>\n",
              "    <tr>\n",
              "      <th>3</th>\n",
              "      <td>3</td>\n",
              "      <td>3a699019-f1a8-4d25-8427-1f1e62329521</td>\n",
              "      <td>Đề xuất xử lý hình sự hành vi thu gom sổ bảo h...</td>\n",
              "      <td>Kiến nghị được Giám đốc Sở Lao động, Thương bi...</td>\n",
              "      <td>0</td>\n",
              "    </tr>\n",
              "    <tr>\n",
              "      <th>4</th>\n",
              "      <td>4</td>\n",
              "      <td>582a4158-78be-44a0-b7e9-9019abfbf1ad</td>\n",
              "      <td>Đêm hội trăng rằm của trẻ có hoàn cảnh khó khăn</td>\n",
              "      <td>Chương trình mở cửa miễn phí với nhiều tiết mụ...</td>\n",
              "      <td>0</td>\n",
              "    </tr>\n",
              "  </tbody>\n",
              "</table>\n",
              "</div>\n",
              "      <button class=\"colab-df-convert\" onclick=\"convertToInteractive('df-8a781ebf-d781-4295-8d5e-96d30df4fa3e')\"\n",
              "              title=\"Convert this dataframe to an interactive table.\"\n",
              "              style=\"display:none;\">\n",
              "        \n",
              "  <svg xmlns=\"http://www.w3.org/2000/svg\" height=\"24px\"viewBox=\"0 0 24 24\"\n",
              "       width=\"24px\">\n",
              "    <path d=\"M0 0h24v24H0V0z\" fill=\"none\"/>\n",
              "    <path d=\"M18.56 5.44l.94 2.06.94-2.06 2.06-.94-2.06-.94-.94-2.06-.94 2.06-2.06.94zm-11 1L8.5 8.5l.94-2.06 2.06-.94-2.06-.94L8.5 2.5l-.94 2.06-2.06.94zm10 10l.94 2.06.94-2.06 2.06-.94-2.06-.94-.94-2.06-.94 2.06-2.06.94z\"/><path d=\"M17.41 7.96l-1.37-1.37c-.4-.4-.92-.59-1.43-.59-.52 0-1.04.2-1.43.59L10.3 9.45l-7.72 7.72c-.78.78-.78 2.05 0 2.83L4 21.41c.39.39.9.59 1.41.59.51 0 1.02-.2 1.41-.59l7.78-7.78 2.81-2.81c.8-.78.8-2.07 0-2.86zM5.41 20L4 18.59l7.72-7.72 1.47 1.35L5.41 20z\"/>\n",
              "  </svg>\n",
              "      </button>\n",
              "      \n",
              "  <style>\n",
              "    .colab-df-container {\n",
              "      display:flex;\n",
              "      flex-wrap:wrap;\n",
              "      gap: 12px;\n",
              "    }\n",
              "\n",
              "    .colab-df-convert {\n",
              "      background-color: #E8F0FE;\n",
              "      border: none;\n",
              "      border-radius: 50%;\n",
              "      cursor: pointer;\n",
              "      display: none;\n",
              "      fill: #1967D2;\n",
              "      height: 32px;\n",
              "      padding: 0 0 0 0;\n",
              "      width: 32px;\n",
              "    }\n",
              "\n",
              "    .colab-df-convert:hover {\n",
              "      background-color: #E2EBFA;\n",
              "      box-shadow: 0px 1px 2px rgba(60, 64, 67, 0.3), 0px 1px 3px 1px rgba(60, 64, 67, 0.15);\n",
              "      fill: #174EA6;\n",
              "    }\n",
              "\n",
              "    [theme=dark] .colab-df-convert {\n",
              "      background-color: #3B4455;\n",
              "      fill: #D2E3FC;\n",
              "    }\n",
              "\n",
              "    [theme=dark] .colab-df-convert:hover {\n",
              "      background-color: #434B5C;\n",
              "      box-shadow: 0px 1px 3px 1px rgba(0, 0, 0, 0.15);\n",
              "      filter: drop-shadow(0px 1px 2px rgba(0, 0, 0, 0.3));\n",
              "      fill: #FFFFFF;\n",
              "    }\n",
              "  </style>\n",
              "\n",
              "      <script>\n",
              "        const buttonEl =\n",
              "          document.querySelector('#df-8a781ebf-d781-4295-8d5e-96d30df4fa3e button.colab-df-convert');\n",
              "        buttonEl.style.display =\n",
              "          google.colab.kernel.accessAllowed ? 'block' : 'none';\n",
              "\n",
              "        async function convertToInteractive(key) {\n",
              "          const element = document.querySelector('#df-8a781ebf-d781-4295-8d5e-96d30df4fa3e');\n",
              "          const dataTable =\n",
              "            await google.colab.kernel.invokeFunction('convertToInteractive',\n",
              "                                                     [key], {});\n",
              "          if (!dataTable) return;\n",
              "\n",
              "          const docLinkHtml = 'Like what you see? Visit the ' +\n",
              "            '<a target=\"_blank\" href=https://colab.research.google.com/notebooks/data_table.ipynb>data table notebook</a>'\n",
              "            + ' to learn more about interactive tables.';\n",
              "          element.innerHTML = '';\n",
              "          dataTable['output_type'] = 'display_data';\n",
              "          await google.colab.output.renderOutput(dataTable, element);\n",
              "          const docLink = document.createElement('div');\n",
              "          docLink.innerHTML = docLinkHtml;\n",
              "          element.appendChild(docLink);\n",
              "        }\n",
              "      </script>\n",
              "    </div>\n",
              "  </div>\n",
              "  "
            ],
            "text/plain": [
              "   Unnamed: 0                                    id  \\\n",
              "0           0  2fdc17c5-3abc-4a32-b565-4f9a31b0b63f   \n",
              "1           1  4fa7b6b0-5969-4927-9392-d9981971d3e3   \n",
              "2           2  ef592a33-23e7-496e-a7bd-0cef5f4b3cd2   \n",
              "3           3  3a699019-f1a8-4d25-8427-1f1e62329521   \n",
              "4           4  582a4158-78be-44a0-b7e9-9019abfbf1ad   \n",
              "\n",
              "                                               title  \\\n",
              "0       Đề xuất xây đường kéo dài đại lộ Thăng Long    \n",
              "1    Đề xuất xây thêm bãi đỗ xe tại sân bay Nội Bài    \n",
              "2       Đề xuất xóa 4 tổng cục thuộc Bộ Nông nghiệp    \n",
              "3  Đề xuất xử lý hình sự hành vi thu gom sổ bảo h...   \n",
              "4   Đêm hội trăng rằm của trẻ có hoàn cảnh khó khăn    \n",
              "\n",
              "                                             content  label  \n",
              "0  Ngày 17/5, đại diện Bộ Giao thông Vận tải cho ...      0  \n",
              "1  Theo đề xuất của Cục Hàng không Việt Nam gửi B...      0  \n",
              "2  Theo dự thảo nghị định quy định chức năng, nhi...      0  \n",
              "3  Kiến nghị được Giám đốc Sở Lao động, Thương bi...      0  \n",
              "4  Chương trình mở cửa miễn phí với nhiều tiết mụ...      0  "
            ]
          },
          "execution_count": 54,
          "metadata": {},
          "output_type": "execute_result"
        }
      ],
      "source": [
        "train_df.head()"
      ]
    },
    {
      "cell_type": "code",
      "execution_count": 55,
      "metadata": {
        "colab": {
          "base_uri": "https://localhost:8080/",
          "height": 206
        },
        "id": "GhI_5Na6P5_8",
        "outputId": "ffdf9012-ace6-4d3f-fb17-716a1df0f82d"
      },
      "outputs": [
        {
          "data": {
            "text/html": [
              "\n",
              "  <div id=\"df-7c2fe44b-a378-4ede-840a-97ef9cfcd6c5\">\n",
              "    <div class=\"colab-df-container\">\n",
              "      <div>\n",
              "<style scoped>\n",
              "    .dataframe tbody tr th:only-of-type {\n",
              "        vertical-align: middle;\n",
              "    }\n",
              "\n",
              "    .dataframe tbody tr th {\n",
              "        vertical-align: top;\n",
              "    }\n",
              "\n",
              "    .dataframe thead th {\n",
              "        text-align: right;\n",
              "    }\n",
              "</style>\n",
              "<table border=\"1\" class=\"dataframe\">\n",
              "  <thead>\n",
              "    <tr style=\"text-align: right;\">\n",
              "      <th></th>\n",
              "      <th>Unnamed: 0</th>\n",
              "      <th>id</th>\n",
              "      <th>title</th>\n",
              "      <th>content</th>\n",
              "      <th>label</th>\n",
              "    </tr>\n",
              "  </thead>\n",
              "  <tbody>\n",
              "    <tr>\n",
              "      <th>0</th>\n",
              "      <td>0</td>\n",
              "      <td>efde56c2-b0d4-4aef-91dd-874058c186ac</td>\n",
              "      <td>1.000 ha dừa Bến Tre nhiễm sâu đầu đen</td>\n",
              "      <td>Sáng gần giữa tháng tư, ông Nguyễn Long Hổ (50...</td>\n",
              "      <td>0</td>\n",
              "    </tr>\n",
              "    <tr>\n",
              "      <th>1</th>\n",
              "      <td>1</td>\n",
              "      <td>26af923d-7550-4d59-a5cd-1ccfb2e988ff</td>\n",
              "      <td>1.000 túi thuốc hỗ trợ F0 điều trị tại nhà</td>\n",
              "      <td>Sáng 17/9, 1.000 túi thuốc đóng gói sẵn được c...</td>\n",
              "      <td>0</td>\n",
              "    </tr>\n",
              "    <tr>\n",
              "      <th>2</th>\n",
              "      <td>2</td>\n",
              "      <td>9bc5be8f-460f-46e7-b418-3e3a3464e43e</td>\n",
              "      <td>1/4 số thực tập sinh Nhật Bản trở về Việt Nam ...</td>\n",
              "      <td>Cơ quan Hợp tác Quốc tế Nhật Bản (JICA) vừa cô...</td>\n",
              "      <td>0</td>\n",
              "    </tr>\n",
              "    <tr>\n",
              "      <th>3</th>\n",
              "      <td>3</td>\n",
              "      <td>adfad0b4-7924-483e-ac26-2e12de121ca0</td>\n",
              "      <td>1,5 triệu người chưa nhận, TP HCM kéo dài hỗ t...</td>\n",
              "      <td>Chiều 22/10, Giám đốc Sở Lao động, Thương binh...</td>\n",
              "      <td>0</td>\n",
              "    </tr>\n",
              "    <tr>\n",
              "      <th>4</th>\n",
              "      <td>4</td>\n",
              "      <td>2e4ab952-2a50-41fc-a32b-f40c51495157</td>\n",
              "      <td>1.500 tỷ đồng xây mới cầu Trà Khúc 1</td>\n",
              "      <td>Chiều 19/4, Chủ tịch UBND Quảng Ngãi Đặng Văn ...</td>\n",
              "      <td>0</td>\n",
              "    </tr>\n",
              "  </tbody>\n",
              "</table>\n",
              "</div>\n",
              "      <button class=\"colab-df-convert\" onclick=\"convertToInteractive('df-7c2fe44b-a378-4ede-840a-97ef9cfcd6c5')\"\n",
              "              title=\"Convert this dataframe to an interactive table.\"\n",
              "              style=\"display:none;\">\n",
              "        \n",
              "  <svg xmlns=\"http://www.w3.org/2000/svg\" height=\"24px\"viewBox=\"0 0 24 24\"\n",
              "       width=\"24px\">\n",
              "    <path d=\"M0 0h24v24H0V0z\" fill=\"none\"/>\n",
              "    <path d=\"M18.56 5.44l.94 2.06.94-2.06 2.06-.94-2.06-.94-.94-2.06-.94 2.06-2.06.94zm-11 1L8.5 8.5l.94-2.06 2.06-.94-2.06-.94L8.5 2.5l-.94 2.06-2.06.94zm10 10l.94 2.06.94-2.06 2.06-.94-2.06-.94-.94-2.06-.94 2.06-2.06.94z\"/><path d=\"M17.41 7.96l-1.37-1.37c-.4-.4-.92-.59-1.43-.59-.52 0-1.04.2-1.43.59L10.3 9.45l-7.72 7.72c-.78.78-.78 2.05 0 2.83L4 21.41c.39.39.9.59 1.41.59.51 0 1.02-.2 1.41-.59l7.78-7.78 2.81-2.81c.8-.78.8-2.07 0-2.86zM5.41 20L4 18.59l7.72-7.72 1.47 1.35L5.41 20z\"/>\n",
              "  </svg>\n",
              "      </button>\n",
              "      \n",
              "  <style>\n",
              "    .colab-df-container {\n",
              "      display:flex;\n",
              "      flex-wrap:wrap;\n",
              "      gap: 12px;\n",
              "    }\n",
              "\n",
              "    .colab-df-convert {\n",
              "      background-color: #E8F0FE;\n",
              "      border: none;\n",
              "      border-radius: 50%;\n",
              "      cursor: pointer;\n",
              "      display: none;\n",
              "      fill: #1967D2;\n",
              "      height: 32px;\n",
              "      padding: 0 0 0 0;\n",
              "      width: 32px;\n",
              "    }\n",
              "\n",
              "    .colab-df-convert:hover {\n",
              "      background-color: #E2EBFA;\n",
              "      box-shadow: 0px 1px 2px rgba(60, 64, 67, 0.3), 0px 1px 3px 1px rgba(60, 64, 67, 0.15);\n",
              "      fill: #174EA6;\n",
              "    }\n",
              "\n",
              "    [theme=dark] .colab-df-convert {\n",
              "      background-color: #3B4455;\n",
              "      fill: #D2E3FC;\n",
              "    }\n",
              "\n",
              "    [theme=dark] .colab-df-convert:hover {\n",
              "      background-color: #434B5C;\n",
              "      box-shadow: 0px 1px 3px 1px rgba(0, 0, 0, 0.15);\n",
              "      filter: drop-shadow(0px 1px 2px rgba(0, 0, 0, 0.3));\n",
              "      fill: #FFFFFF;\n",
              "    }\n",
              "  </style>\n",
              "\n",
              "      <script>\n",
              "        const buttonEl =\n",
              "          document.querySelector('#df-7c2fe44b-a378-4ede-840a-97ef9cfcd6c5 button.colab-df-convert');\n",
              "        buttonEl.style.display =\n",
              "          google.colab.kernel.accessAllowed ? 'block' : 'none';\n",
              "\n",
              "        async function convertToInteractive(key) {\n",
              "          const element = document.querySelector('#df-7c2fe44b-a378-4ede-840a-97ef9cfcd6c5');\n",
              "          const dataTable =\n",
              "            await google.colab.kernel.invokeFunction('convertToInteractive',\n",
              "                                                     [key], {});\n",
              "          if (!dataTable) return;\n",
              "\n",
              "          const docLinkHtml = 'Like what you see? Visit the ' +\n",
              "            '<a target=\"_blank\" href=https://colab.research.google.com/notebooks/data_table.ipynb>data table notebook</a>'\n",
              "            + ' to learn more about interactive tables.';\n",
              "          element.innerHTML = '';\n",
              "          dataTable['output_type'] = 'display_data';\n",
              "          await google.colab.output.renderOutput(dataTable, element);\n",
              "          const docLink = document.createElement('div');\n",
              "          docLink.innerHTML = docLinkHtml;\n",
              "          element.appendChild(docLink);\n",
              "        }\n",
              "      </script>\n",
              "    </div>\n",
              "  </div>\n",
              "  "
            ],
            "text/plain": [
              "   Unnamed: 0                                    id  \\\n",
              "0           0  efde56c2-b0d4-4aef-91dd-874058c186ac   \n",
              "1           1  26af923d-7550-4d59-a5cd-1ccfb2e988ff   \n",
              "2           2  9bc5be8f-460f-46e7-b418-3e3a3464e43e   \n",
              "3           3  adfad0b4-7924-483e-ac26-2e12de121ca0   \n",
              "4           4  2e4ab952-2a50-41fc-a32b-f40c51495157   \n",
              "\n",
              "                                               title  \\\n",
              "0            1.000 ha dừa Bến Tre nhiễm sâu đầu đen    \n",
              "1         1.000 túi thuốc hỗ trợ F0 điều trị tại nhà   \n",
              "2  1/4 số thực tập sinh Nhật Bản trở về Việt Nam ...   \n",
              "3  1,5 triệu người chưa nhận, TP HCM kéo dài hỗ t...   \n",
              "4              1.500 tỷ đồng xây mới cầu Trà Khúc 1    \n",
              "\n",
              "                                             content  label  \n",
              "0  Sáng gần giữa tháng tư, ông Nguyễn Long Hổ (50...      0  \n",
              "1  Sáng 17/9, 1.000 túi thuốc đóng gói sẵn được c...      0  \n",
              "2  Cơ quan Hợp tác Quốc tế Nhật Bản (JICA) vừa cô...      0  \n",
              "3  Chiều 22/10, Giám đốc Sở Lao động, Thương binh...      0  \n",
              "4  Chiều 19/4, Chủ tịch UBND Quảng Ngãi Đặng Văn ...      0  "
            ]
          },
          "execution_count": 55,
          "metadata": {},
          "output_type": "execute_result"
        }
      ],
      "source": [
        "test_df.head()"
      ]
    },
    {
      "cell_type": "code",
      "execution_count": 56,
      "metadata": {
        "colab": {
          "base_uri": "https://localhost:8080/"
        },
        "id": "x6yUcIRDY-tr",
        "outputId": "549199d4-8f17-4771-dd80-7cc788b0eec4"
      },
      "outputs": [
        {
          "name": "stdout",
          "output_type": "stream",
          "text": [
            "Có tổng cộng 11 nhãn\n",
            "[0, 1, 2, 3, 4, 5, 6, 7, 8, 9, 10]\n"
          ]
        }
      ],
      "source": [
        "labels = []\n",
        "for label in train_df['label']:\n",
        "    labels.append(label)\n",
        "\n",
        "\n",
        "labels = list(set(labels))\n",
        "print(f\"Có tổng cộng {len(labels)} nhãn\")\n",
        "print(list(set(labels)))"
      ]
    },
    {
      "cell_type": "code",
      "execution_count": 57,
      "metadata": {
        "colab": {
          "base_uri": "https://localhost:8080/"
        },
        "id": "M6jLWcCDkWBe",
        "outputId": "b01765b0-c6fb-42ef-89fe-345c7abc3666"
      },
      "outputs": [
        {
          "name": "stdout",
          "output_type": "stream",
          "text": [
            "['thời sự', 'thế giới', 'kinh doanh', 'thể thao', 'giải trí', 'pháp luật', 'sức khỏe', 'giáo dục', 'khoa học - công nghệ', 'du lịch - ẩm thực', 'oto xe máy']\n"
          ]
        }
      ],
      "source": [
        "id2label = {\n",
        "    0: 'thời sự',\n",
        "    1: 'thế giới',\n",
        "    2: 'kinh doanh',\n",
        "    3: 'thể thao',\n",
        "    4: 'giải trí',\n",
        "    5: 'pháp luật',\n",
        "    6: 'sức khỏe',\n",
        "    7: 'giáo dục',\n",
        "    8: 'khoa học - công nghệ',\n",
        "    9: 'du lịch - ẩm thực',\n",
        "    10: 'oto xe máy'\n",
        "}\n",
        "\n",
        "\n",
        "label_names = [id2label[i] for i in range(len(labels))]\n",
        "print(label_names)"
      ]
    },
    {
      "cell_type": "markdown",
      "metadata": {
        "id": "RAOBs7dThWK1"
      },
      "source": [
        "# Các hàm hỗ trợ"
      ]
    },
    {
      "cell_type": "code",
      "execution_count": 58,
      "metadata": {
        "id": "9L7QoOlecslE"
      },
      "outputs": [],
      "source": [
        "def get_corpus_and_label(df):\n",
        "    title = [title for title in df['title']]\n",
        "    content = [content for content in df['content']]\n",
        "    label = [label for label in df['label']]\n",
        "\n",
        "    corpus = []\n",
        "    for index in range(len(title)):\n",
        "        # merge tiêu đề và nội dung bài viết\n",
        "        text = title[index] + ' ' + content[index]\n",
        "        corpus.append(text)\n",
        "    \n",
        "    return label, corpus"
      ]
    },
    {
      "cell_type": "code",
      "execution_count": 59,
      "metadata": {
        "id": "lVxI7PlPi3nu"
      },
      "outputs": [],
      "source": [
        "# Lấy nhãn và corpus từ dataset\n",
        "\n",
        "train_label, train_corpus = get_corpus_and_label(train_df)\n",
        "test_label, test_corpus = get_corpus_and_label(test_df)"
      ]
    },
    {
      "cell_type": "code",
      "execution_count": 60,
      "metadata": {
        "id": "Y3KL-GQ1ifBs"
      },
      "outputs": [],
      "source": [
        "# sns.set(font_scale=1.4)\n",
        "# cm = confusion_matrix(y_test, y_pred) \n",
        "# cm_df = pd.DataFrame(cm,\n",
        "#                      index = label_names, \n",
        "#                      columns = label_names)\n",
        "\n",
        "# plt.figure(figsize=(10,8))\n",
        "# sns.heatmap(cm_df, annot=True, fmt=\"d\",annot_kws={\"size\": 18})\n",
        "# plt.ylabel('True label')\n",
        "# plt.xlabel('Predicted label')\n",
        "# plt.title('Countvector')\n",
        "# plt.show()"
      ]
    },
    {
      "cell_type": "markdown",
      "metadata": {
        "id": "S1k3Zqb_hOKY"
      },
      "source": [
        "# Train và Test"
      ]
    },
    {
      "cell_type": "markdown",
      "metadata": {
        "id": "g3JVbgv_hhXN"
      },
      "source": [
        "## Naive Bayes"
      ]
    },
    {
      "cell_type": "markdown",
      "metadata": {
        "id": "xB7hzMdPiUvo"
      },
      "source": [
        "### Countvector"
      ]
    },
    {
      "cell_type": "code",
      "execution_count": 61,
      "metadata": {
        "colab": {
          "base_uri": "https://localhost:8080/"
        },
        "id": "o2StcyXdZnRj",
        "outputId": "e77222b3-21c7-48f1-bcb3-58c06f48fcf5"
      },
      "outputs": [
        {
          "name": "stdout",
          "output_type": "stream",
          "text": [
            "0.8129090909090909\n"
          ]
        }
      ],
      "source": [
        "# Train\n",
        "\n",
        "cv = CountVectorizer(max_features=5000)\n",
        "x_train = cv.fit_transform(train_corpus).toarray()\n",
        "y_train = np.array(train_label)\n",
        "\n",
        "nb_classifier_1 = MultinomialNB()\n",
        "nb_classifier_1.fit(x_train, y_train)\n",
        "\n",
        "# Test\n",
        "\n",
        "x_test = cv.transform(test_corpus).toarray()\n",
        "y_test = np.array(test_label)\n",
        "\n",
        "y_pred = nb_classifier_1.predict(x_test)\n",
        "nb1_acc = accuracy_score(y_test, y_pred)\n",
        "print(nb1_acc)"
      ]
    },
    {
      "cell_type": "code",
      "execution_count": 62,
      "metadata": {
        "colab": {
          "base_uri": "https://localhost:8080/"
        },
        "id": "WkQpUX8jeCVj",
        "outputId": "fee6577e-80ae-422c-b109-2a3cf7089301"
      },
      "outputs": [
        {
          "name": "stdout",
          "output_type": "stream",
          "text": [
            "              precision    recall  f1-score   support\n",
            "\n",
            "           0       0.74      0.72      0.73      1000\n",
            "           1       0.88      0.71      0.79      1000\n",
            "           2       0.78      0.83      0.81      1000\n",
            "           3       0.96      0.94      0.95      1000\n",
            "           4       0.70      0.86      0.77      1000\n",
            "           5       0.87      0.73      0.79      1000\n",
            "           6       0.79      0.85      0.82      1000\n",
            "           7       0.81      0.90      0.85      1000\n",
            "           8       0.88      0.53      0.66      1000\n",
            "           9       0.71      0.89      0.79      1000\n",
            "          10       0.91      0.96      0.94      1000\n",
            "\n",
            "    accuracy                           0.81     11000\n",
            "   macro avg       0.82      0.81      0.81     11000\n",
            "weighted avg       0.82      0.81      0.81     11000\n",
            "\n"
          ]
        }
      ],
      "source": [
        "print(classification_report(y_test, y_pred))"
      ]
    },
    {
      "cell_type": "markdown",
      "metadata": {
        "id": "W8zXR4iqiiG9"
      },
      "source": [
        "### Tfidf "
      ]
    },
    {
      "cell_type": "code",
      "execution_count": 63,
      "metadata": {
        "colab": {
          "base_uri": "https://localhost:8080/"
        },
        "id": "3oQ9azMdjb3t",
        "outputId": "e6ca9688-dc2a-4d90-d04b-b7c2b8dc66f3"
      },
      "outputs": [
        {
          "name": "stdout",
          "output_type": "stream",
          "text": [
            "0.8098181818181818\n"
          ]
        }
      ],
      "source": [
        "# Train\n",
        "\n",
        "cv = TfidfVectorizer(max_features=5000)\n",
        "x_train = cv.fit_transform(train_corpus).toarray()\n",
        "y_train = np.array(train_label)\n",
        "\n",
        "nb_classifier_2 = MultinomialNB()\n",
        "nb_classifier_2.fit(x_train, y_train)\n",
        "\n",
        "# Test\n",
        "\n",
        "x_test = cv.transform(test_corpus).toarray()\n",
        "y_test = np.array(test_label)\n",
        "\n",
        "y_pred = nb_classifier_2.predict(x_test)\n",
        "nb2_acc = accuracy_score(y_test, y_pred)\n",
        "print(nb2_acc)"
      ]
    },
    {
      "cell_type": "code",
      "execution_count": 64,
      "metadata": {
        "colab": {
          "base_uri": "https://localhost:8080/"
        },
        "id": "esEFsJQCjV6a",
        "outputId": "7531385f-fba6-45d1-c03d-40fafadcfb01"
      },
      "outputs": [
        {
          "name": "stdout",
          "output_type": "stream",
          "text": [
            "              precision    recall  f1-score   support\n",
            "\n",
            "           0       0.70      0.70      0.70      1000\n",
            "           1       0.87      0.74      0.80      1000\n",
            "           2       0.68      0.89      0.77      1000\n",
            "           3       0.97      0.94      0.96      1000\n",
            "           4       0.77      0.86      0.81      1000\n",
            "           5       0.90      0.55      0.68      1000\n",
            "           6       0.77      0.90      0.83      1000\n",
            "           7       0.75      0.95      0.84      1000\n",
            "           8       0.89      0.67      0.76      1000\n",
            "           9       0.80      0.86      0.83      1000\n",
            "          10       0.97      0.84      0.90      1000\n",
            "\n",
            "    accuracy                           0.81     11000\n",
            "   macro avg       0.82      0.81      0.81     11000\n",
            "weighted avg       0.82      0.81      0.81     11000\n",
            "\n"
          ]
        }
      ],
      "source": [
        "print(classification_report(y_test, y_pred))"
      ]
    },
    {
      "cell_type": "markdown",
      "metadata": {
        "id": "1j6as1DYkfTR"
      },
      "source": [
        "## Logistic Regression"
      ]
    },
    {
      "cell_type": "markdown",
      "metadata": {
        "id": "MjXR1R_qk6Ux"
      },
      "source": [
        "### Countvector"
      ]
    },
    {
      "cell_type": "code",
      "execution_count": 65,
      "metadata": {
        "colab": {
          "base_uri": "https://localhost:8080/"
        },
        "id": "OGsk2NzclArH",
        "outputId": "3f38b256-51df-4d87-fe1d-99bf24b02d9e"
      },
      "outputs": [
        {
          "name": "stderr",
          "output_type": "stream",
          "text": [
            "/usr/local/lib/python3.7/dist-packages/sklearn/linear_model/_logistic.py:818: ConvergenceWarning: lbfgs failed to converge (status=1):\n",
            "STOP: TOTAL NO. of ITERATIONS REACHED LIMIT.\n",
            "\n",
            "Increase the number of iterations (max_iter) or scale the data as shown in:\n",
            "    https://scikit-learn.org/stable/modules/preprocessing.html\n",
            "Please also refer to the documentation for alternative solver options:\n",
            "    https://scikit-learn.org/stable/modules/linear_model.html#logistic-regression\n",
            "  extra_warning_msg=_LOGISTIC_SOLVER_CONVERGENCE_MSG,\n"
          ]
        },
        {
          "name": "stdout",
          "output_type": "stream",
          "text": [
            "0.8859090909090909\n"
          ]
        }
      ],
      "source": [
        "# Train\n",
        "\n",
        "cv = CountVectorizer(max_features=5000)\n",
        "x_train = cv.fit_transform(train_corpus).toarray()\n",
        "y_train = np.array(train_label)\n",
        "\n",
        "lr_classifier_1 = LogisticRegression(multi_class='multinomial')\n",
        "lr_classifier_1.fit(x_train, y_train)\n",
        "\n",
        "# Test\n",
        "\n",
        "x_test = cv.transform(test_corpus).toarray()\n",
        "y_test = np.array(test_label)\n",
        "\n",
        "y_pred = lr_classifier_1.predict(x_test)\n",
        "lr1_acc = accuracy_score(y_test, y_pred)\n",
        "print(lr1_acc)"
      ]
    },
    {
      "cell_type": "code",
      "execution_count": 66,
      "metadata": {
        "colab": {
          "base_uri": "https://localhost:8080/"
        },
        "id": "9HjS2EONk3d3",
        "outputId": "006d1139-17b5-4565-fe1d-c32bddd9d793"
      },
      "outputs": [
        {
          "name": "stdout",
          "output_type": "stream",
          "text": [
            "              precision    recall  f1-score   support\n",
            "\n",
            "           0       0.82      0.83      0.83      1000\n",
            "           1       0.92      0.89      0.91      1000\n",
            "           2       0.85      0.86      0.86      1000\n",
            "           3       0.98      0.97      0.97      1000\n",
            "           4       0.84      0.91      0.87      1000\n",
            "           5       0.96      0.76      0.85      1000\n",
            "           6       0.84      0.94      0.89      1000\n",
            "           7       0.88      0.93      0.90      1000\n",
            "           8       0.83      0.86      0.85      1000\n",
            "           9       0.90      0.81      0.85      1000\n",
            "          10       0.96      0.98      0.97      1000\n",
            "\n",
            "    accuracy                           0.89     11000\n",
            "   macro avg       0.89      0.89      0.89     11000\n",
            "weighted avg       0.89      0.89      0.89     11000\n",
            "\n"
          ]
        }
      ],
      "source": [
        "print(classification_report(y_test, y_pred))"
      ]
    },
    {
      "cell_type": "markdown",
      "metadata": {
        "id": "Lgv91ogdlJQp"
      },
      "source": [
        "### Tfidf"
      ]
    },
    {
      "cell_type": "code",
      "execution_count": 67,
      "metadata": {
        "colab": {
          "base_uri": "https://localhost:8080/"
        },
        "id": "gxXkL-vclOps",
        "outputId": "b17e0b6d-b23c-43ab-c89d-9aca316a8544"
      },
      "outputs": [
        {
          "name": "stderr",
          "output_type": "stream",
          "text": [
            "/usr/local/lib/python3.7/dist-packages/sklearn/linear_model/_logistic.py:818: ConvergenceWarning: lbfgs failed to converge (status=1):\n",
            "STOP: TOTAL NO. of ITERATIONS REACHED LIMIT.\n",
            "\n",
            "Increase the number of iterations (max_iter) or scale the data as shown in:\n",
            "    https://scikit-learn.org/stable/modules/preprocessing.html\n",
            "Please also refer to the documentation for alternative solver options:\n",
            "    https://scikit-learn.org/stable/modules/linear_model.html#logistic-regression\n",
            "  extra_warning_msg=_LOGISTIC_SOLVER_CONVERGENCE_MSG,\n"
          ]
        },
        {
          "name": "stdout",
          "output_type": "stream",
          "text": [
            "0.9018181818181819\n"
          ]
        }
      ],
      "source": [
        "# Train\n",
        "\n",
        "cv = TfidfVectorizer(max_features=5000)\n",
        "x_train = cv.fit_transform(train_corpus).toarray()\n",
        "y_train = np.array(train_label)\n",
        "\n",
        "lr_classifier_2 = LogisticRegression(multi_class='multinomial')\n",
        "lr_classifier_2.fit(x_train, y_train)\n",
        "\n",
        "# Test\n",
        "\n",
        "x_test = cv.transform(test_corpus).toarray()\n",
        "y_test = np.array(test_label)\n",
        "\n",
        "y_pred = lr_classifier_2.predict(x_test)\n",
        "lr2_acc = accuracy_score(y_test, y_pred)\n",
        "print(lr2_acc)"
      ]
    },
    {
      "cell_type": "code",
      "execution_count": 68,
      "metadata": {
        "colab": {
          "base_uri": "https://localhost:8080/"
        },
        "id": "s8ivNs0xlPOV",
        "outputId": "2c8c63da-2edd-4f83-bfb9-8db329b1a543"
      },
      "outputs": [
        {
          "name": "stdout",
          "output_type": "stream",
          "text": [
            "              precision    recall  f1-score   support\n",
            "\n",
            "           0       0.83      0.82      0.83      1000\n",
            "           1       0.91      0.88      0.89      1000\n",
            "           2       0.84      0.90      0.87      1000\n",
            "           3       0.97      0.98      0.98      1000\n",
            "           4       0.92      0.91      0.91      1000\n",
            "           5       0.97      0.75      0.85      1000\n",
            "           6       0.84      0.98      0.90      1000\n",
            "           7       0.90      0.96      0.93      1000\n",
            "           8       0.91      0.87      0.89      1000\n",
            "           9       0.89      0.92      0.90      1000\n",
            "          10       0.96      0.96      0.96      1000\n",
            "\n",
            "    accuracy                           0.90     11000\n",
            "   macro avg       0.90      0.90      0.90     11000\n",
            "weighted avg       0.90      0.90      0.90     11000\n",
            "\n"
          ]
        }
      ],
      "source": [
        "print(classification_report(y_test, y_pred))"
      ]
    },
    {
      "cell_type": "markdown",
      "metadata": {
        "id": "xhaUMGCLlkRY"
      },
      "source": [
        "## Decision Tree"
      ]
    },
    {
      "cell_type": "markdown",
      "metadata": {
        "id": "E2PCzpOBmAyT"
      },
      "source": [
        "### Counvector"
      ]
    },
    {
      "cell_type": "code",
      "execution_count": 69,
      "metadata": {
        "colab": {
          "base_uri": "https://localhost:8080/"
        },
        "id": "UFRjm_VwmCeh",
        "outputId": "8aef7238-af27-4bb7-b794-c2ad4a5393d4"
      },
      "outputs": [
        {
          "name": "stdout",
          "output_type": "stream",
          "text": [
            "0.7180909090909091\n"
          ]
        }
      ],
      "source": [
        "# Train\n",
        "\n",
        "cv = CountVectorizer(max_features=5000)\n",
        "x_train = cv.fit_transform(train_corpus).toarray()\n",
        "y_train = np.array(train_label)\n",
        "\n",
        "tree_classifier_1 = DecisionTreeClassifier()\n",
        "tree_classifier_1.fit(x_train, y_train)\n",
        "\n",
        "# Test\n",
        "\n",
        "x_test = cv.transform(test_corpus).toarray()\n",
        "y_test = np.array(test_label)\n",
        "\n",
        "y_pred = tree_classifier_1.predict(x_test)\n",
        "tree1_acc = accuracy_score(y_test, y_pred)\n",
        "print(tree1_acc)"
      ]
    },
    {
      "cell_type": "code",
      "execution_count": 70,
      "metadata": {
        "colab": {
          "base_uri": "https://localhost:8080/"
        },
        "id": "W6YLcEe-mEck",
        "outputId": "f5506a24-5edb-423b-f31f-68bb65e1297d"
      },
      "outputs": [
        {
          "name": "stdout",
          "output_type": "stream",
          "text": [
            "              precision    recall  f1-score   support\n",
            "\n",
            "           0       0.58      0.54      0.56      1000\n",
            "           1       0.62      0.61      0.62      1000\n",
            "           2       0.61      0.72      0.66      1000\n",
            "           3       0.89      0.86      0.87      1000\n",
            "           4       0.71      0.67      0.69      1000\n",
            "           5       0.78      0.49      0.60      1000\n",
            "           6       0.68      0.81      0.74      1000\n",
            "           7       0.73      0.85      0.78      1000\n",
            "           8       0.68      0.65      0.66      1000\n",
            "           9       0.73      0.70      0.72      1000\n",
            "          10       0.90      1.00      0.95      1000\n",
            "\n",
            "    accuracy                           0.72     11000\n",
            "   macro avg       0.72      0.72      0.71     11000\n",
            "weighted avg       0.72      0.72      0.71     11000\n",
            "\n"
          ]
        }
      ],
      "source": [
        "print(classification_report(y_test, y_pred))"
      ]
    },
    {
      "cell_type": "markdown",
      "metadata": {
        "id": "C9TNVIQCmIdK"
      },
      "source": [
        "### Tfidf"
      ]
    },
    {
      "cell_type": "code",
      "execution_count": 71,
      "metadata": {
        "colab": {
          "base_uri": "https://localhost:8080/"
        },
        "id": "9rnMCgZlmLS8",
        "outputId": "24856b41-1fbb-492e-c6f5-54c8054959da"
      },
      "outputs": [
        {
          "name": "stdout",
          "output_type": "stream",
          "text": [
            "0.7162727272727273\n"
          ]
        }
      ],
      "source": [
        "# Train\n",
        "\n",
        "cv = TfidfVectorizer(max_features=5000)\n",
        "x_train = cv.fit_transform(train_corpus).toarray()\n",
        "y_train = np.array(train_label)\n",
        "\n",
        "tree_classifier_2 = DecisionTreeClassifier()\n",
        "tree_classifier_2.fit(x_train, y_train)\n",
        "\n",
        "# Test\n",
        "\n",
        "x_test = cv.transform(test_corpus).toarray()\n",
        "y_test = np.array(test_label)\n",
        "\n",
        "y_pred = tree_classifier_2.predict(x_test)\n",
        "tree2_acc = accuracy_score(y_test, y_pred)\n",
        "print(tree2_acc)"
      ]
    },
    {
      "cell_type": "code",
      "execution_count": 72,
      "metadata": {
        "colab": {
          "base_uri": "https://localhost:8080/"
        },
        "id": "Kyw1nSiDmLZt",
        "outputId": "d5773a08-c02b-43fb-e6a0-22099b307547"
      },
      "outputs": [
        {
          "name": "stdout",
          "output_type": "stream",
          "text": [
            "              precision    recall  f1-score   support\n",
            "\n",
            "           0       0.56      0.54      0.55      1000\n",
            "           1       0.64      0.60      0.62      1000\n",
            "           2       0.61      0.69      0.65      1000\n",
            "           3       0.88      0.85      0.86      1000\n",
            "           4       0.69      0.69      0.69      1000\n",
            "           5       0.80      0.46      0.58      1000\n",
            "           6       0.67      0.82      0.74      1000\n",
            "           7       0.73      0.83      0.78      1000\n",
            "           8       0.69      0.66      0.68      1000\n",
            "           9       0.74      0.73      0.73      1000\n",
            "          10       0.92      1.00      0.96      1000\n",
            "\n",
            "    accuracy                           0.72     11000\n",
            "   macro avg       0.72      0.72      0.71     11000\n",
            "weighted avg       0.72      0.72      0.71     11000\n",
            "\n"
          ]
        }
      ],
      "source": [
        "print(classification_report(y_test, y_pred))"
      ]
    },
    {
      "cell_type": "markdown",
      "metadata": {
        "id": "gtsuXDABoyNa"
      },
      "source": [
        "## SVM"
      ]
    },
    {
      "cell_type": "markdown",
      "metadata": {
        "id": "Ah-ZAJhbo1Bb"
      },
      "source": [
        "### Countvector"
      ]
    },
    {
      "cell_type": "code",
      "execution_count": 73,
      "metadata": {
        "colab": {
          "base_uri": "https://localhost:8080/"
        },
        "id": "3KPRr9WMo3Ul",
        "outputId": "684f1de2-c960-4ea3-ba67-c229fc19e4a7"
      },
      "outputs": [
        {
          "name": "stderr",
          "output_type": "stream",
          "text": [
            "/usr/local/lib/python3.7/dist-packages/sklearn/svm/_base.py:1208: ConvergenceWarning: Liblinear failed to converge, increase the number of iterations.\n",
            "  ConvergenceWarning,\n"
          ]
        },
        {
          "name": "stdout",
          "output_type": "stream",
          "text": [
            "0.885\n"
          ]
        }
      ],
      "source": [
        "# Train\n",
        "\n",
        "cv = CountVectorizer(max_features=5000)\n",
        "x_train = cv.fit_transform(train_corpus).toarray()\n",
        "y_train = np.array(train_label)\n",
        "\n",
        "svm_classifier_1 = LinearSVC()\n",
        "svm_classifier_1.fit(x_train, y_train)\n",
        "\n",
        "# Test\n",
        "\n",
        "x_test = cv.transform(test_corpus).toarray()\n",
        "y_test = np.array(test_label)\n",
        "\n",
        "y_pred = svm_classifier_1.predict(x_test)\n",
        "svm1_acc = accuracy_score(y_test, y_pred)\n",
        "print(svm1_acc)"
      ]
    },
    {
      "cell_type": "code",
      "execution_count": 74,
      "metadata": {
        "colab": {
          "base_uri": "https://localhost:8080/"
        },
        "id": "B8SBweHdo3cU",
        "outputId": "62909ff7-77e4-4d40-e996-9cf5f3560cb3"
      },
      "outputs": [
        {
          "name": "stdout",
          "output_type": "stream",
          "text": [
            "              precision    recall  f1-score   support\n",
            "\n",
            "           0       0.78      0.81      0.79      1000\n",
            "           1       0.90      0.88      0.89      1000\n",
            "           2       0.83      0.86      0.85      1000\n",
            "           3       0.97      0.97      0.97      1000\n",
            "           4       0.90      0.90      0.90      1000\n",
            "           5       0.94      0.75      0.83      1000\n",
            "           6       0.84      0.95      0.89      1000\n",
            "           7       0.88      0.94      0.91      1000\n",
            "           8       0.88      0.83      0.86      1000\n",
            "           9       0.88      0.85      0.86      1000\n",
            "          10       0.95      1.00      0.98      1000\n",
            "\n",
            "    accuracy                           0.89     11000\n",
            "   macro avg       0.89      0.88      0.88     11000\n",
            "weighted avg       0.89      0.89      0.88     11000\n",
            "\n"
          ]
        }
      ],
      "source": [
        "print(classification_report(y_test, y_pred))"
      ]
    },
    {
      "cell_type": "markdown",
      "metadata": {
        "id": "aNjoHA90o8V6"
      },
      "source": [
        "### Tfidf"
      ]
    },
    {
      "cell_type": "code",
      "execution_count": 75,
      "metadata": {
        "colab": {
          "base_uri": "https://localhost:8080/"
        },
        "id": "ZrsQE8sho_i4",
        "outputId": "b615ac40-e8a3-4b86-a888-37d57cc38f03"
      },
      "outputs": [
        {
          "name": "stdout",
          "output_type": "stream",
          "text": [
            "0.9157272727272727\n"
          ]
        }
      ],
      "source": [
        "# Train\n",
        "\n",
        "cv = TfidfVectorizer(max_features=5000)\n",
        "x_train = cv.fit_transform(train_corpus).toarray()\n",
        "y_train = np.array(train_label)\n",
        "\n",
        "svm_classifier_2 = LinearSVC()\n",
        "svm_classifier_2.fit(x_train, y_train)\n",
        "\n",
        "# Test\n",
        "\n",
        "x_test = cv.transform(test_corpus).toarray()\n",
        "y_test = np.array(test_label)\n",
        "\n",
        "y_pred = svm_classifier_2.predict(x_test)\n",
        "svm2_acc = accuracy_score(y_test, y_pred)\n",
        "print(svm2_acc)"
      ]
    },
    {
      "cell_type": "code",
      "execution_count": 76,
      "metadata": {
        "colab": {
          "base_uri": "https://localhost:8080/"
        },
        "id": "2f_5df2go_sa",
        "outputId": "a6986bf8-9c13-4899-d362-81ca8d62f53f"
      },
      "outputs": [
        {
          "name": "stdout",
          "output_type": "stream",
          "text": [
            "              precision    recall  f1-score   support\n",
            "\n",
            "           0       0.86      0.83      0.85      1000\n",
            "           1       0.93      0.91      0.92      1000\n",
            "           2       0.87      0.91      0.89      1000\n",
            "           3       0.98      0.99      0.98      1000\n",
            "           4       0.93      0.91      0.92      1000\n",
            "           5       0.98      0.79      0.88      1000\n",
            "           6       0.85      0.97      0.91      1000\n",
            "           7       0.90      0.96      0.93      1000\n",
            "           8       0.92      0.89      0.91      1000\n",
            "           9       0.91      0.91      0.91      1000\n",
            "          10       0.96      0.99      0.98      1000\n",
            "\n",
            "    accuracy                           0.92     11000\n",
            "   macro avg       0.92      0.92      0.92     11000\n",
            "weighted avg       0.92      0.92      0.92     11000\n",
            "\n"
          ]
        }
      ],
      "source": [
        "print(classification_report(y_test, y_pred))"
      ]
    },
    {
      "cell_type": "markdown",
      "metadata": {
        "id": "x9_P7vabq0gx"
      },
      "source": [
        "# TỔNG HỢP"
      ]
    },
    {
      "cell_type": "code",
      "execution_count": 77,
      "metadata": {
        "id": "I2--l7-2q2sJ"
      },
      "outputs": [],
      "source": [
        "board = pd.DataFrame(\n",
        "    index = ['Naive Bayes', 'Logictic Regression', 'Decision Tree', 'SVM'],\n",
        "    columns= ['Countvector', 'Tfidf'],\n",
        "    data= [\n",
        "              [nb1_acc,nb2_acc],\n",
        "              [lr1_acc,lr2_acc],\n",
        "              [tree1_acc, tree2_acc],\n",
        "              [svm1_acc, svm2_acc]\n",
        "          ]\n",
        ")"
      ]
    },
    {
      "cell_type": "code",
      "execution_count": 78,
      "metadata": {
        "colab": {
          "base_uri": "https://localhost:8080/",
          "height": 193
        },
        "id": "iDp0velyrcV1",
        "outputId": "d8cdcbb5-58a3-41af-85c5-283bb03d147a"
      },
      "outputs": [
        {
          "data": {
            "text/html": [
              "\n",
              "  <div id=\"df-f1114bfb-0f5d-427a-abda-34c7c8df0b2f\">\n",
              "    <div class=\"colab-df-container\">\n",
              "      <div>\n",
              "<style scoped>\n",
              "    .dataframe tbody tr th:only-of-type {\n",
              "        vertical-align: middle;\n",
              "    }\n",
              "\n",
              "    .dataframe tbody tr th {\n",
              "        vertical-align: top;\n",
              "    }\n",
              "\n",
              "    .dataframe thead th {\n",
              "        text-align: right;\n",
              "    }\n",
              "</style>\n",
              "<table border=\"1\" class=\"dataframe\">\n",
              "  <thead>\n",
              "    <tr style=\"text-align: right;\">\n",
              "      <th></th>\n",
              "      <th>Countvector</th>\n",
              "      <th>Tfidf</th>\n",
              "    </tr>\n",
              "  </thead>\n",
              "  <tbody>\n",
              "    <tr>\n",
              "      <th>Naive Bayes</th>\n",
              "      <td>0.812909</td>\n",
              "      <td>0.809818</td>\n",
              "    </tr>\n",
              "    <tr>\n",
              "      <th>Logictic Regression</th>\n",
              "      <td>0.885909</td>\n",
              "      <td>0.901818</td>\n",
              "    </tr>\n",
              "    <tr>\n",
              "      <th>Decision Tree</th>\n",
              "      <td>0.718091</td>\n",
              "      <td>0.716273</td>\n",
              "    </tr>\n",
              "    <tr>\n",
              "      <th>SVM</th>\n",
              "      <td>0.885000</td>\n",
              "      <td>0.915727</td>\n",
              "    </tr>\n",
              "  </tbody>\n",
              "</table>\n",
              "</div>\n",
              "      <button class=\"colab-df-convert\" onclick=\"convertToInteractive('df-f1114bfb-0f5d-427a-abda-34c7c8df0b2f')\"\n",
              "              title=\"Convert this dataframe to an interactive table.\"\n",
              "              style=\"display:none;\">\n",
              "        \n",
              "  <svg xmlns=\"http://www.w3.org/2000/svg\" height=\"24px\"viewBox=\"0 0 24 24\"\n",
              "       width=\"24px\">\n",
              "    <path d=\"M0 0h24v24H0V0z\" fill=\"none\"/>\n",
              "    <path d=\"M18.56 5.44l.94 2.06.94-2.06 2.06-.94-2.06-.94-.94-2.06-.94 2.06-2.06.94zm-11 1L8.5 8.5l.94-2.06 2.06-.94-2.06-.94L8.5 2.5l-.94 2.06-2.06.94zm10 10l.94 2.06.94-2.06 2.06-.94-2.06-.94-.94-2.06-.94 2.06-2.06.94z\"/><path d=\"M17.41 7.96l-1.37-1.37c-.4-.4-.92-.59-1.43-.59-.52 0-1.04.2-1.43.59L10.3 9.45l-7.72 7.72c-.78.78-.78 2.05 0 2.83L4 21.41c.39.39.9.59 1.41.59.51 0 1.02-.2 1.41-.59l7.78-7.78 2.81-2.81c.8-.78.8-2.07 0-2.86zM5.41 20L4 18.59l7.72-7.72 1.47 1.35L5.41 20z\"/>\n",
              "  </svg>\n",
              "      </button>\n",
              "      \n",
              "  <style>\n",
              "    .colab-df-container {\n",
              "      display:flex;\n",
              "      flex-wrap:wrap;\n",
              "      gap: 12px;\n",
              "    }\n",
              "\n",
              "    .colab-df-convert {\n",
              "      background-color: #E8F0FE;\n",
              "      border: none;\n",
              "      border-radius: 50%;\n",
              "      cursor: pointer;\n",
              "      display: none;\n",
              "      fill: #1967D2;\n",
              "      height: 32px;\n",
              "      padding: 0 0 0 0;\n",
              "      width: 32px;\n",
              "    }\n",
              "\n",
              "    .colab-df-convert:hover {\n",
              "      background-color: #E2EBFA;\n",
              "      box-shadow: 0px 1px 2px rgba(60, 64, 67, 0.3), 0px 1px 3px 1px rgba(60, 64, 67, 0.15);\n",
              "      fill: #174EA6;\n",
              "    }\n",
              "\n",
              "    [theme=dark] .colab-df-convert {\n",
              "      background-color: #3B4455;\n",
              "      fill: #D2E3FC;\n",
              "    }\n",
              "\n",
              "    [theme=dark] .colab-df-convert:hover {\n",
              "      background-color: #434B5C;\n",
              "      box-shadow: 0px 1px 3px 1px rgba(0, 0, 0, 0.15);\n",
              "      filter: drop-shadow(0px 1px 2px rgba(0, 0, 0, 0.3));\n",
              "      fill: #FFFFFF;\n",
              "    }\n",
              "  </style>\n",
              "\n",
              "      <script>\n",
              "        const buttonEl =\n",
              "          document.querySelector('#df-f1114bfb-0f5d-427a-abda-34c7c8df0b2f button.colab-df-convert');\n",
              "        buttonEl.style.display =\n",
              "          google.colab.kernel.accessAllowed ? 'block' : 'none';\n",
              "\n",
              "        async function convertToInteractive(key) {\n",
              "          const element = document.querySelector('#df-f1114bfb-0f5d-427a-abda-34c7c8df0b2f');\n",
              "          const dataTable =\n",
              "            await google.colab.kernel.invokeFunction('convertToInteractive',\n",
              "                                                     [key], {});\n",
              "          if (!dataTable) return;\n",
              "\n",
              "          const docLinkHtml = 'Like what you see? Visit the ' +\n",
              "            '<a target=\"_blank\" href=https://colab.research.google.com/notebooks/data_table.ipynb>data table notebook</a>'\n",
              "            + ' to learn more about interactive tables.';\n",
              "          element.innerHTML = '';\n",
              "          dataTable['output_type'] = 'display_data';\n",
              "          await google.colab.output.renderOutput(dataTable, element);\n",
              "          const docLink = document.createElement('div');\n",
              "          docLink.innerHTML = docLinkHtml;\n",
              "          element.appendChild(docLink);\n",
              "        }\n",
              "      </script>\n",
              "    </div>\n",
              "  </div>\n",
              "  "
            ],
            "text/plain": [
              "                     Countvector     Tfidf\n",
              "Naive Bayes             0.812909  0.809818\n",
              "Logictic Regression     0.885909  0.901818\n",
              "Decision Tree           0.718091  0.716273\n",
              "SVM                     0.885000  0.915727"
            ]
          },
          "execution_count": 78,
          "metadata": {},
          "output_type": "execute_result"
        }
      ],
      "source": [
        "board"
      ]
    },
    {
      "cell_type": "markdown",
      "metadata": {
        "id": "4_tFjZVW6zj8"
      },
      "source": [
        "# Ensemble"
      ]
    },
    {
      "cell_type": "code",
      "execution_count": 89,
      "metadata": {
        "colab": {
          "base_uri": "https://localhost:8080/"
        },
        "id": "fSlRUZZa6wHX",
        "outputId": "91628d34-3c21-4f0d-ed92-e327eea6c64b"
      },
      "outputs": [
        {
          "name": "stderr",
          "output_type": "stream",
          "text": [
            "/usr/local/lib/python3.7/dist-packages/sklearn/linear_model/_logistic.py:818: ConvergenceWarning: lbfgs failed to converge (status=1):\n",
            "STOP: TOTAL NO. of ITERATIONS REACHED LIMIT.\n",
            "\n",
            "Increase the number of iterations (max_iter) or scale the data as shown in:\n",
            "    https://scikit-learn.org/stable/modules/preprocessing.html\n",
            "Please also refer to the documentation for alternative solver options:\n",
            "    https://scikit-learn.org/stable/modules/linear_model.html#logistic-regression\n",
            "  extra_warning_msg=_LOGISTIC_SOLVER_CONVERGENCE_MSG,\n"
          ]
        },
        {
          "name": "stdout",
          "output_type": "stream",
          "text": [
            "MultinomialNB 0.801\n",
            "MultinomialNB 0.8098181818181818\n",
            "LogisticRegression 0.22736363636363635\n",
            "LogisticRegression 0.9018181818181819\n",
            "LinearSVC 0.6125454545454545\n",
            "LinearSVC 0.9157272727272727\n",
            "VotingClassifier 0.9022727272727272\n"
          ]
        }
      ],
      "source": [
        "from sklearn.ensemble import VotingClassifier\n",
        "\n",
        "cv = TfidfVectorizer(max_features=5000)\n",
        "x_train = cv.fit_transform(train_corpus).toarray()\n",
        "y_train = np.array(train_label)\n",
        "x_test = cv.transform(test_corpus).toarray()\n",
        "y_test = np.array(test_label)\n",
        "\n",
        "\n",
        "voting_classifier = VotingClassifier( estimators=[\n",
        "    ('nb1', nb_classifier_1),\n",
        "    ('nb2', nb_classifier_2),\n",
        "    # ('lr1', lr_classifier_1),\n",
        "    ('lr2', lr_classifier_2),\n",
        "    # ('svm1', svm_classifier_1),\n",
        "    ('svm2', svm_classifier_2)\n",
        "    ], voting='hard', weights=[1, 1, 2, 2])\n",
        "\n",
        "voting_classifier.fit(x_train, y_train)\n",
        "\n",
        "\n",
        "for clf in (nb_classifier_1,nb_classifier_2,lr_classifier_1, lr_classifier_2, svm_classifier_1, svm_classifier_2, voting_classifier):\n",
        "    y_pred = clf.predict(x_test)  \n",
        "    print(clf.__class__.__name__ , accuracy_score(y_test, y_pred))"
      ]
    },
    {
      "cell_type": "code",
      "execution_count": 90,
      "metadata": {
        "colab": {
          "base_uri": "https://localhost:8080/",
          "height": 606
        },
        "id": "BYFbuuKXMSRl",
        "outputId": "bd02bab2-c079-442c-f5d6-1c9b7bf53558"
      },
      "outputs": [
        {
          "name": "stderr",
          "output_type": "stream",
          "text": [
            "/usr/local/lib/python3.7/dist-packages/sklearn/linear_model/_logistic.py:818: ConvergenceWarning: lbfgs failed to converge (status=1):\n",
            "STOP: TOTAL NO. of ITERATIONS REACHED LIMIT.\n",
            "\n",
            "Increase the number of iterations (max_iter) or scale the data as shown in:\n",
            "    https://scikit-learn.org/stable/modules/preprocessing.html\n",
            "Please also refer to the documentation for alternative solver options:\n",
            "    https://scikit-learn.org/stable/modules/linear_model.html#logistic-regression\n",
            "  extra_warning_msg=_LOGISTIC_SOLVER_CONVERGENCE_MSG,\n"
          ]
        },
        {
          "name": "stdout",
          "output_type": "stream",
          "text": [
            "MultinomialNB 0.801\n",
            "MultinomialNB 0.8098181818181818\n",
            "LogisticRegression 0.22736363636363635\n",
            "LogisticRegression 0.9018181818181819\n",
            "LinearSVC 0.6125454545454545\n",
            "LinearSVC 0.9157272727272727\n"
          ]
        },
        {
          "ename": "AttributeError",
          "evalue": "ignored",
          "output_type": "error",
          "traceback": [
            "\u001b[0;31m---------------------------------------------------------------------------\u001b[0m",
            "\u001b[0;31mAttributeError\u001b[0m                            Traceback (most recent call last)",
            "\u001b[0;32m<ipython-input-90-d91b42cfb707>\u001b[0m in \u001b[0;36m<module>\u001b[0;34m\u001b[0m\n\u001b[1;32m     21\u001b[0m \u001b[0;34m\u001b[0m\u001b[0m\n\u001b[1;32m     22\u001b[0m \u001b[0;32mfor\u001b[0m \u001b[0mclf\u001b[0m \u001b[0;32min\u001b[0m \u001b[0;34m(\u001b[0m\u001b[0mnb_classifier_1\u001b[0m\u001b[0;34m,\u001b[0m\u001b[0mnb_classifier_2\u001b[0m\u001b[0;34m,\u001b[0m\u001b[0mlr_classifier_1\u001b[0m\u001b[0;34m,\u001b[0m \u001b[0mlr_classifier_2\u001b[0m\u001b[0;34m,\u001b[0m \u001b[0msvm_classifier_1\u001b[0m\u001b[0;34m,\u001b[0m \u001b[0msvm_classifier_2\u001b[0m\u001b[0;34m,\u001b[0m \u001b[0mvoting_classifier\u001b[0m\u001b[0;34m)\u001b[0m\u001b[0;34m:\u001b[0m\u001b[0;34m\u001b[0m\u001b[0;34m\u001b[0m\u001b[0m\n\u001b[0;32m---> 23\u001b[0;31m     \u001b[0my_pred\u001b[0m \u001b[0;34m=\u001b[0m \u001b[0mclf\u001b[0m\u001b[0;34m.\u001b[0m\u001b[0mpredict\u001b[0m\u001b[0;34m(\u001b[0m\u001b[0mx_test\u001b[0m\u001b[0;34m)\u001b[0m\u001b[0;34m\u001b[0m\u001b[0;34m\u001b[0m\u001b[0m\n\u001b[0m\u001b[1;32m     24\u001b[0m     \u001b[0mprint\u001b[0m\u001b[0;34m(\u001b[0m\u001b[0mclf\u001b[0m\u001b[0;34m.\u001b[0m\u001b[0m__class__\u001b[0m\u001b[0;34m.\u001b[0m\u001b[0m__name__\u001b[0m \u001b[0;34m,\u001b[0m \u001b[0maccuracy_score\u001b[0m\u001b[0;34m(\u001b[0m\u001b[0my_test\u001b[0m\u001b[0;34m,\u001b[0m \u001b[0my_pred\u001b[0m\u001b[0;34m)\u001b[0m\u001b[0;34m)\u001b[0m\u001b[0;34m\u001b[0m\u001b[0;34m\u001b[0m\u001b[0m\n",
            "\u001b[0;32m/usr/local/lib/python3.7/dist-packages/sklearn/ensemble/_voting.py\u001b[0m in \u001b[0;36mpredict\u001b[0;34m(self, X)\u001b[0m\n\u001b[1;32m    339\u001b[0m         \u001b[0mcheck_is_fitted\u001b[0m\u001b[0;34m(\u001b[0m\u001b[0mself\u001b[0m\u001b[0;34m)\u001b[0m\u001b[0;34m\u001b[0m\u001b[0;34m\u001b[0m\u001b[0m\n\u001b[1;32m    340\u001b[0m         \u001b[0;32mif\u001b[0m \u001b[0mself\u001b[0m\u001b[0;34m.\u001b[0m\u001b[0mvoting\u001b[0m \u001b[0;34m==\u001b[0m \u001b[0;34m\"soft\"\u001b[0m\u001b[0;34m:\u001b[0m\u001b[0;34m\u001b[0m\u001b[0;34m\u001b[0m\u001b[0m\n\u001b[0;32m--> 341\u001b[0;31m             \u001b[0mmaj\u001b[0m \u001b[0;34m=\u001b[0m \u001b[0mnp\u001b[0m\u001b[0;34m.\u001b[0m\u001b[0margmax\u001b[0m\u001b[0;34m(\u001b[0m\u001b[0mself\u001b[0m\u001b[0;34m.\u001b[0m\u001b[0mpredict_proba\u001b[0m\u001b[0;34m(\u001b[0m\u001b[0mX\u001b[0m\u001b[0;34m)\u001b[0m\u001b[0;34m,\u001b[0m \u001b[0maxis\u001b[0m\u001b[0;34m=\u001b[0m\u001b[0;36m1\u001b[0m\u001b[0;34m)\u001b[0m\u001b[0;34m\u001b[0m\u001b[0;34m\u001b[0m\u001b[0m\n\u001b[0m\u001b[1;32m    342\u001b[0m \u001b[0;34m\u001b[0m\u001b[0m\n\u001b[1;32m    343\u001b[0m         \u001b[0;32melse\u001b[0m\u001b[0;34m:\u001b[0m  \u001b[0;31m# 'hard' voting\u001b[0m\u001b[0;34m\u001b[0m\u001b[0;34m\u001b[0m\u001b[0m\n",
            "\u001b[0;32m/usr/local/lib/python3.7/dist-packages/sklearn/utils/metaestimators.py\u001b[0m in \u001b[0;36m<lambda>\u001b[0;34m(*args, **kwargs)\u001b[0m\n\u001b[1;32m    111\u001b[0m \u001b[0;34m\u001b[0m\u001b[0m\n\u001b[1;32m    112\u001b[0m             \u001b[0;31m# lambda, but not partial, allows help() to work with update_wrapper\u001b[0m\u001b[0;34m\u001b[0m\u001b[0;34m\u001b[0m\u001b[0;34m\u001b[0m\u001b[0m\n\u001b[0;32m--> 113\u001b[0;31m             \u001b[0mout\u001b[0m \u001b[0;34m=\u001b[0m \u001b[0;32mlambda\u001b[0m \u001b[0;34m*\u001b[0m\u001b[0margs\u001b[0m\u001b[0;34m,\u001b[0m \u001b[0;34m**\u001b[0m\u001b[0mkwargs\u001b[0m\u001b[0;34m:\u001b[0m \u001b[0mself\u001b[0m\u001b[0;34m.\u001b[0m\u001b[0mfn\u001b[0m\u001b[0;34m(\u001b[0m\u001b[0mobj\u001b[0m\u001b[0;34m,\u001b[0m \u001b[0;34m*\u001b[0m\u001b[0margs\u001b[0m\u001b[0;34m,\u001b[0m \u001b[0;34m**\u001b[0m\u001b[0mkwargs\u001b[0m\u001b[0;34m)\u001b[0m  \u001b[0;31m# noqa\u001b[0m\u001b[0;34m\u001b[0m\u001b[0;34m\u001b[0m\u001b[0m\n\u001b[0m\u001b[1;32m    114\u001b[0m         \u001b[0;32melse\u001b[0m\u001b[0;34m:\u001b[0m\u001b[0;34m\u001b[0m\u001b[0;34m\u001b[0m\u001b[0m\n\u001b[1;32m    115\u001b[0m \u001b[0;34m\u001b[0m\u001b[0m\n",
            "\u001b[0;32m/usr/local/lib/python3.7/dist-packages/sklearn/ensemble/_voting.py\u001b[0m in \u001b[0;36mpredict_proba\u001b[0;34m(self, X)\u001b[0m\n\u001b[1;32m    380\u001b[0m         \u001b[0mcheck_is_fitted\u001b[0m\u001b[0;34m(\u001b[0m\u001b[0mself\u001b[0m\u001b[0;34m)\u001b[0m\u001b[0;34m\u001b[0m\u001b[0;34m\u001b[0m\u001b[0m\n\u001b[1;32m    381\u001b[0m         avg = np.average(\n\u001b[0;32m--> 382\u001b[0;31m             \u001b[0mself\u001b[0m\u001b[0;34m.\u001b[0m\u001b[0m_collect_probas\u001b[0m\u001b[0;34m(\u001b[0m\u001b[0mX\u001b[0m\u001b[0;34m)\u001b[0m\u001b[0;34m,\u001b[0m \u001b[0maxis\u001b[0m\u001b[0;34m=\u001b[0m\u001b[0;36m0\u001b[0m\u001b[0;34m,\u001b[0m \u001b[0mweights\u001b[0m\u001b[0;34m=\u001b[0m\u001b[0mself\u001b[0m\u001b[0;34m.\u001b[0m\u001b[0m_weights_not_none\u001b[0m\u001b[0;34m\u001b[0m\u001b[0;34m\u001b[0m\u001b[0m\n\u001b[0m\u001b[1;32m    383\u001b[0m         )\n\u001b[1;32m    384\u001b[0m         \u001b[0;32mreturn\u001b[0m \u001b[0mavg\u001b[0m\u001b[0;34m\u001b[0m\u001b[0;34m\u001b[0m\u001b[0m\n",
            "\u001b[0;32m/usr/local/lib/python3.7/dist-packages/sklearn/ensemble/_voting.py\u001b[0m in \u001b[0;36m_collect_probas\u001b[0;34m(self, X)\u001b[0m\n\u001b[1;32m    355\u001b[0m     \u001b[0;32mdef\u001b[0m \u001b[0m_collect_probas\u001b[0m\u001b[0;34m(\u001b[0m\u001b[0mself\u001b[0m\u001b[0;34m,\u001b[0m \u001b[0mX\u001b[0m\u001b[0;34m)\u001b[0m\u001b[0;34m:\u001b[0m\u001b[0;34m\u001b[0m\u001b[0;34m\u001b[0m\u001b[0m\n\u001b[1;32m    356\u001b[0m         \u001b[0;34m\"\"\"Collect results from clf.predict calls.\"\"\"\u001b[0m\u001b[0;34m\u001b[0m\u001b[0;34m\u001b[0m\u001b[0m\n\u001b[0;32m--> 357\u001b[0;31m         \u001b[0;32mreturn\u001b[0m \u001b[0mnp\u001b[0m\u001b[0;34m.\u001b[0m\u001b[0masarray\u001b[0m\u001b[0;34m(\u001b[0m\u001b[0;34m[\u001b[0m\u001b[0mclf\u001b[0m\u001b[0;34m.\u001b[0m\u001b[0mpredict_proba\u001b[0m\u001b[0;34m(\u001b[0m\u001b[0mX\u001b[0m\u001b[0;34m)\u001b[0m \u001b[0;32mfor\u001b[0m \u001b[0mclf\u001b[0m \u001b[0;32min\u001b[0m \u001b[0mself\u001b[0m\u001b[0;34m.\u001b[0m\u001b[0mestimators_\u001b[0m\u001b[0;34m]\u001b[0m\u001b[0;34m)\u001b[0m\u001b[0;34m\u001b[0m\u001b[0;34m\u001b[0m\u001b[0m\n\u001b[0m\u001b[1;32m    358\u001b[0m \u001b[0;34m\u001b[0m\u001b[0m\n\u001b[1;32m    359\u001b[0m     \u001b[0;32mdef\u001b[0m \u001b[0m_check_voting\u001b[0m\u001b[0;34m(\u001b[0m\u001b[0mself\u001b[0m\u001b[0;34m)\u001b[0m\u001b[0;34m:\u001b[0m\u001b[0;34m\u001b[0m\u001b[0;34m\u001b[0m\u001b[0m\n",
            "\u001b[0;32m/usr/local/lib/python3.7/dist-packages/sklearn/ensemble/_voting.py\u001b[0m in \u001b[0;36m<listcomp>\u001b[0;34m(.0)\u001b[0m\n\u001b[1;32m    355\u001b[0m     \u001b[0;32mdef\u001b[0m \u001b[0m_collect_probas\u001b[0m\u001b[0;34m(\u001b[0m\u001b[0mself\u001b[0m\u001b[0;34m,\u001b[0m \u001b[0mX\u001b[0m\u001b[0;34m)\u001b[0m\u001b[0;34m:\u001b[0m\u001b[0;34m\u001b[0m\u001b[0;34m\u001b[0m\u001b[0m\n\u001b[1;32m    356\u001b[0m         \u001b[0;34m\"\"\"Collect results from clf.predict calls.\"\"\"\u001b[0m\u001b[0;34m\u001b[0m\u001b[0;34m\u001b[0m\u001b[0m\n\u001b[0;32m--> 357\u001b[0;31m         \u001b[0;32mreturn\u001b[0m \u001b[0mnp\u001b[0m\u001b[0;34m.\u001b[0m\u001b[0masarray\u001b[0m\u001b[0;34m(\u001b[0m\u001b[0;34m[\u001b[0m\u001b[0mclf\u001b[0m\u001b[0;34m.\u001b[0m\u001b[0mpredict_proba\u001b[0m\u001b[0;34m(\u001b[0m\u001b[0mX\u001b[0m\u001b[0;34m)\u001b[0m \u001b[0;32mfor\u001b[0m \u001b[0mclf\u001b[0m \u001b[0;32min\u001b[0m \u001b[0mself\u001b[0m\u001b[0;34m.\u001b[0m\u001b[0mestimators_\u001b[0m\u001b[0;34m]\u001b[0m\u001b[0;34m)\u001b[0m\u001b[0;34m\u001b[0m\u001b[0;34m\u001b[0m\u001b[0m\n\u001b[0m\u001b[1;32m    358\u001b[0m \u001b[0;34m\u001b[0m\u001b[0m\n\u001b[1;32m    359\u001b[0m     \u001b[0;32mdef\u001b[0m \u001b[0m_check_voting\u001b[0m\u001b[0;34m(\u001b[0m\u001b[0mself\u001b[0m\u001b[0;34m)\u001b[0m\u001b[0;34m:\u001b[0m\u001b[0;34m\u001b[0m\u001b[0;34m\u001b[0m\u001b[0m\n",
            "\u001b[0;31mAttributeError\u001b[0m: 'LinearSVC' object has no attribute 'predict_proba'"
          ]
        }
      ],
      "source": [
        "from sklearn.ensemble import VotingClassifier\n",
        "\n",
        "cv = TfidfVectorizer(max_features=5000)\n",
        "x_train = cv.fit_transform(train_corpus).toarray()\n",
        "y_train = np.array(train_label)\n",
        "x_test = cv.transform(test_corpus).toarray()\n",
        "y_test = np.array(test_label)\n",
        "\n",
        "\n",
        "voting_classifier = VotingClassifier( estimators=[\n",
        "    ('nb1', nb_classifier_1),\n",
        "    ('nb2', nb_classifier_2),\n",
        "    # ('lr1', lr_classifier_1),\n",
        "    ('lr2', lr_classifier_2),\n",
        "    # ('svm1', svm_classifier_1),\n",
        "    ('svm2', svm_classifier_2)\n",
        "    ], voting='soft', weights=[1, 1, 2, 2], flatten_transform=True)\n",
        "\n",
        "voting_classifier.fit(x_train, y_train)\n",
        "\n",
        "\n",
        "for clf in (nb_classifier_1,nb_classifier_2,lr_classifier_1, lr_classifier_2, svm_classifier_1, svm_classifier_2, voting_classifier):\n",
        "    y_pred = clf.predict(x_test)  \n",
        "    print(clf.__class__.__name__ , accuracy_score(y_test, y_pred))"
      ]
    },
    {
      "cell_type": "code",
      "execution_count": 85,
      "metadata": {
        "colab": {
          "base_uri": "https://localhost:8080/",
          "height": 35
        },
        "id": "cKSeGfbZ9Cmu",
        "outputId": "60ecc10a-3a02-4185-9ad6-a7fca9d25f01"
      },
      "outputs": [
        {
          "data": {
            "application/vnd.google.colaboratory.intrinsic+json": {
              "type": "string"
            },
            "text/plain": [
              "'giáo dục'"
            ]
          },
          "execution_count": 85,
          "metadata": {},
          "output_type": "execute_result"
        }
      ],
      "source": [
        "news = 'Đối với nhiều trường, việc lùi giờ học này thực chất chỉ là “lùi giờ đóng cổng trường” thêm 15-25 phút, còn giờ học vẫn bắt đầu từ 7 giờ không đổi. Trước đây, dù 7 giờ mới bắt đầu tiết học đầu tiên nhưng nhiều trường quy định giờ đóng cổng là 6 giờ 45 hay có trường là 6 giờ 35. Với giờ đóng cổng như vậy, nỗi ám ảnh đi trễ luôn đè nặng tâm trí học sinh vì đến trễ giờ đóng cổng sẽ bị ghi tên, đi trễ ba lần sẽ bị hạ một bậc hạnh kiểm. Ngoài ảnh hưởng có hại cho tâm lý học sinh và phụ huynh, việc phải “chạy đua” cho kịp giờ đóng cổng như vậy cũng là một trong những lý do dẫn đến tai nạn giao thông. Đã có những vụ bị thương tích rất nặng như một học sinh lớp 10 bị xe khách đụng khi cách trường chỉ còn 50 mét hồi tháng trước. Trong mấy năm đưa con đi học, đặc biệt vào mùa mưa, không ít lần người viết bài này chứng kiến học sinh trượt chân té nhào khi chạy bộ hay té xe khi gấp rút chạy đến trường cho kịp giờ đóng cổng. Nhìn các em lấm lem bùn đất, trầy trụa chân tay thật xót xa. Sau khi có quy định mới, các trường đã lùi giờ đóng cổng đến 6 giờ 55, tức chỉ chậm thêm 10-20 phút nhưng lợi ích mang lại rất lớn. Cảnh tượng phụ huynh, học sinh phải đua xe bất đắc dĩ hầu như không còn nữa, tâm lý học sinh cũng thoải mái vì thoát được nỗi ám ảnh bị ghi tên, hạ hạnh kiểm. Việc thay đổi có lợi như thế này hầu như không ảnh hưởng đến thời khóa biểu vì giờ học vẫn như cũ. Tuy nhiên, vấn đề này trước đây mỗi khi được đưa ra thảo luận trên báo chí hay các cuộc họp của ngành giáo dục thì đều bị bàn ra với những lý do rất vĩ mô như “để hạn chế kẹt xe” hay “tránh gây ảnh hưởng đến kế hoạch học tập”… Thực tế cho thấy, việc thay đổi giờ đóng cổng trường như vậy lẽ ra cần áp dụng từ lâu, nhưng mãi đến khi chính Sở Giáo dục và Đào tạo TPHCM thay đổi cách nghĩ thì mới áp dụng được.'\n",
        "\n",
        "id2label[clf.predict(cv.transform([news]).toarray())[0]]"
      ]
    }
  ],
  "metadata": {
    "colab": {
      "provenance": []
    },
    "kernelspec": {
      "display_name": "Python 3.10.3 64-bit",
      "language": "python",
      "name": "python3"
    },
    "language_info": {
      "name": "python",
      "version": "3.10.3"
    },
    "vscode": {
      "interpreter": {
        "hash": "26de051ba29f2982a8de78e945f0abaf191376122a1563185a90213a26c5da77"
      }
    }
  },
  "nbformat": 4,
  "nbformat_minor": 0
}
